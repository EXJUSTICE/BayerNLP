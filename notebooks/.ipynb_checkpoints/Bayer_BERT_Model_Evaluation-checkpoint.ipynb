{
 "cells": [
  {
   "cell_type": "markdown",
   "metadata": {
    "id": "QbM7x-5UEzUR",
    "papermill": {
     "duration": 0.024713,
     "end_time": "2023-02-12T15:55:42.553589",
     "exception": false,
     "start_time": "2023-02-12T15:55:42.528876",
     "status": "completed"
    },
    "tags": []
   },
   "source": [
    "# Bayer NLP task - BERT Model Evaluation\n",
    "\n",
    "In this notebook, we will perform sentiment classification using Transfer Learning and BERT.\n",
    "BERT (Bidirectionnal Encoder Representations for Transformers) is a “new method of pre-training language representations” developed by Google and released in late 2018.\n",
    "Note that due to a lack of memory notebook was in a GCP instance, and as such is self-encapsulated.\n",
    "\n",
    "Notebook follows prior model evaluation notebooks.\n",
    "(c) Yijie Xu"
   ]
  },
  {
   "cell_type": "markdown",
   "metadata": {
    "id": "Q6hKNfAlEzUS",
    "papermill": {
     "duration": 0.022949,
     "end_time": "2023-02-12T15:55:42.600105",
     "exception": false,
     "start_time": "2023-02-12T15:55:42.577156",
     "status": "completed"
    },
    "tags": []
   },
   "source": [
    "### Install, import libraries, initialize variables"
   ]
  },
  {
   "cell_type": "code",
   "execution_count": 1,
   "metadata": {
    "execution": {
     "iopub.execute_input": "2023-02-12T15:55:42.654605Z",
     "iopub.status.busy": "2023-02-12T15:55:42.653739Z",
     "iopub.status.idle": "2023-02-12T15:55:50.230576Z",
     "shell.execute_reply": "2023-02-12T15:55:50.229851Z",
     "shell.execute_reply.started": "2023-02-12T14:33:14.466240Z"
    },
    "id": "vezpsX-7GphM",
    "outputId": "a7164402-8a7b-4e4c-e118-ce6498ba4f2e",
    "papermill": {
     "duration": 7.607528,
     "end_time": "2023-02-12T15:55:50.230686",
     "exception": false,
     "start_time": "2023-02-12T15:55:42.623158",
     "status": "completed"
    },
    "tags": []
   },
   "outputs": [
    {
     "name": "stdout",
     "output_type": "stream",
     "text": [
      "Requirement already satisfied: transformers in /opt/conda/lib/python3.7/site-packages (3.5.1)\r\n",
      "Requirement already satisfied: sentencepiece==0.1.91 in /opt/conda/lib/python3.7/site-packages (from transformers) (0.1.91)\r\n",
      "Requirement already satisfied: packaging in /opt/conda/lib/python3.7/site-packages (from transformers) (20.1)\r\n",
      "Requirement already satisfied: sacremoses in /opt/conda/lib/python3.7/site-packages (from transformers) (0.0.43)\r\n",
      "Requirement already satisfied: numpy in /opt/conda/lib/python3.7/site-packages (from transformers) (1.18.5)\r\n",
      "Requirement already satisfied: filelock in /opt/conda/lib/python3.7/site-packages (from transformers) (3.0.10)\r\n",
      "Requirement already satisfied: protobuf in /opt/conda/lib/python3.7/site-packages (from transformers) (3.14.0)\r\n",
      "Requirement already satisfied: tokenizers==0.9.3 in /opt/conda/lib/python3.7/site-packages (from transformers) (0.9.3)\r\n",
      "Requirement already satisfied: requests in /opt/conda/lib/python3.7/site-packages (from transformers) (2.23.0)\r\n",
      "Requirement already satisfied: tqdm>=4.27 in /opt/conda/lib/python3.7/site-packages (from transformers) (4.45.0)\r\n",
      "Requirement already satisfied: regex!=2019.12.17 in /opt/conda/lib/python3.7/site-packages (from transformers) (2020.4.4)\r\n",
      "Requirement already satisfied: pyparsing>=2.0.2 in /opt/conda/lib/python3.7/site-packages (from packaging->transformers) (2.4.7)\r\n",
      "Requirement already satisfied: six in /opt/conda/lib/python3.7/site-packages (from packaging->transformers) (1.14.0)\r\n",
      "Requirement already satisfied: six in /opt/conda/lib/python3.7/site-packages (from packaging->transformers) (1.14.0)\r\n",
      "Requirement already satisfied: idna<3,>=2.5 in /opt/conda/lib/python3.7/site-packages (from requests->transformers) (2.9)\r\n",
      "Requirement already satisfied: urllib3!=1.25.0,!=1.25.1,<1.26,>=1.21.1 in /opt/conda/lib/python3.7/site-packages (from requests->transformers) (1.25.9)\r\n",
      "Requirement already satisfied: certifi>=2017.4.17 in /opt/conda/lib/python3.7/site-packages (from requests->transformers) (2020.12.5)\r\n",
      "Requirement already satisfied: chardet<4,>=3.0.2 in /opt/conda/lib/python3.7/site-packages (from requests->transformers) (3.0.4)\r\n",
      "Requirement already satisfied: six in /opt/conda/lib/python3.7/site-packages (from packaging->transformers) (1.14.0)\r\n",
      "Requirement already satisfied: tqdm>=4.27 in /opt/conda/lib/python3.7/site-packages (from transformers) (4.45.0)\r\n",
      "Requirement already satisfied: joblib in /opt/conda/lib/python3.7/site-packages (from sacremoses->transformers) (0.14.1)\r\n",
      "Requirement already satisfied: click in /opt/conda/lib/python3.7/site-packages (from sacremoses->transformers) (7.1.1)\r\n",
      "Requirement already satisfied: regex!=2019.12.17 in /opt/conda/lib/python3.7/site-packages (from transformers) (2020.4.4)\r\n",
      "\u001b[33mWARNING: You are using pip version 20.3.1; however, version 23.0 is available.\r\n",
      "You should consider upgrading via the '/opt/conda/bin/python3.7 -m pip install --upgrade pip' command.\u001b[0m\r\n"
     ]
    }
   ],
   "source": [
    "!pip install transformers"
   ]
  },
  {
   "cell_type": "code",
   "execution_count": 2,
   "metadata": {
    "execution": {
     "iopub.execute_input": "2023-02-12T15:55:50.290048Z",
     "iopub.status.busy": "2023-02-12T15:55:50.284888Z",
     "iopub.status.idle": "2023-02-12T15:55:57.421304Z",
     "shell.execute_reply": "2023-02-12T15:55:57.420745Z"
    },
    "papermill": {
     "duration": 7.16584,
     "end_time": "2023-02-12T15:55:57.421424",
     "exception": false,
     "start_time": "2023-02-12T15:55:50.255584",
     "status": "completed"
    },
    "tags": []
   },
   "outputs": [
    {
     "name": "stdout",
     "output_type": "stream",
     "text": [
      "Collecting torchsampler\r\n",
      "  Downloading torchsampler-0.1.2-py3-none-any.whl (5.6 kB)\r\n",
      "Requirement already satisfied: torchvision>=0.5 in /opt/conda/lib/python3.7/site-packages (from torchsampler) (0.8.1)\r\n",
      "Requirement already satisfied: torch>=1.3 in /opt/conda/lib/python3.7/site-packages (from torchsampler) (1.7.0)\r\n",
      "Requirement already satisfied: importlib-metadata in /opt/conda/lib/python3.7/site-packages (from torchsampler) (3.1.1)\r\n",
      "Requirement already satisfied: pandas in /opt/conda/lib/python3.7/site-packages (from torchsampler) (1.1.5)\r\n",
      "Requirement already satisfied: zipp>=0.5 in /opt/conda/lib/python3.7/site-packages (from importlib-metadata->torchsampler) (3.1.0)\r\n",
      "Requirement already satisfied: numpy>=1.15.4 in /opt/conda/lib/python3.7/site-packages (from pandas->torchsampler) (1.18.5)\r\n",
      "Requirement already satisfied: python-dateutil>=2.7.3 in /opt/conda/lib/python3.7/site-packages (from pandas->torchsampler) (2.8.1)\r\n",
      "Requirement already satisfied: pytz>=2017.2 in /opt/conda/lib/python3.7/site-packages (from pandas->torchsampler) (2019.3)\r\n",
      "Requirement already satisfied: six>=1.5 in /opt/conda/lib/python3.7/site-packages (from python-dateutil>=2.7.3->pandas->torchsampler) (1.14.0)\r\n",
      "Requirement already satisfied: future in /opt/conda/lib/python3.7/site-packages (from torch>=1.3->torchsampler) (0.18.2)\r\n",
      "Requirement already satisfied: typing_extensions in /opt/conda/lib/python3.7/site-packages (from torch>=1.3->torchsampler) (3.7.4.1)\r\n",
      "Requirement already satisfied: dataclasses in /opt/conda/lib/python3.7/site-packages (from torch>=1.3->torchsampler) (0.6)\r\n",
      "Requirement already satisfied: numpy>=1.15.4 in /opt/conda/lib/python3.7/site-packages (from pandas->torchsampler) (1.18.5)\r\n",
      "Requirement already satisfied: numpy>=1.15.4 in /opt/conda/lib/python3.7/site-packages (from pandas->torchsampler) (1.18.5)\r\n",
      "Requirement already satisfied: torch>=1.3 in /opt/conda/lib/python3.7/site-packages (from torchsampler) (1.7.0)\r\n",
      "Requirement already satisfied: pillow>=4.1.1 in /opt/conda/lib/python3.7/site-packages (from torchvision>=0.5->torchsampler) (8.0.1)\r\n",
      "Installing collected packages: torchsampler\r\n",
      "Successfully installed torchsampler-0.1.2\r\n",
      "\u001b[33mWARNING: You are using pip version 20.3.1; however, version 23.0 is available.\r\n",
      "You should consider upgrading via the '/opt/conda/bin/python3.7 -m pip install --upgrade pip' command.\u001b[0m\r\n"
     ]
    }
   ],
   "source": [
    "!pip install torchsampler"
   ]
  },
  {
   "cell_type": "code",
   "execution_count": 3,
   "metadata": {
    "execution": {
     "iopub.execute_input": "2023-02-12T15:55:57.484416Z",
     "iopub.status.busy": "2023-02-12T15:55:57.481820Z",
     "iopub.status.idle": "2023-02-12T15:56:06.734009Z",
     "shell.execute_reply": "2023-02-12T15:56:06.733003Z",
     "shell.execute_reply.started": "2023-02-12T14:33:21.601268Z"
    },
    "id": "WtQykqrfEzUT",
    "papermill": {
     "duration": 9.286437,
     "end_time": "2023-02-12T15:56:06.734126",
     "exception": false,
     "start_time": "2023-02-12T15:55:57.447689",
     "status": "completed"
    },
    "tags": []
   },
   "outputs": [],
   "source": [
    "# Import necessary libraries\n",
    "import numpy as np\n",
    "import pandas as pd\n",
    "import seaborn as sns\n",
    "from pylab import rcParams\n",
    "import matplotlib.pyplot as plt\n",
    "from matplotlib import rc\n",
    "from sklearn.model_selection import train_test_split\n",
    "from sklearn.metrics import confusion_matrix, classification_report, accuracy_score,balanced_accuracy_score, f1_score\n",
    "from collections import defaultdict\n",
    "from textwrap import wrap\n",
    "\n",
    "# Torch ML libraries\n",
    "import transformers\n",
    "from transformers import BertModel, BertTokenizer, AdamW, get_linear_schedule_with_warmup\n",
    "import torch\n",
    "from torch import nn, optim\n",
    "from torch.utils.data import Dataset, DataLoader\n",
    "\n",
    "# Misc.\n",
    "import warnings\n",
    "warnings.filterwarnings('ignore')"
   ]
  },
  {
   "cell_type": "code",
   "execution_count": 4,
   "metadata": {
    "execution": {
     "iopub.execute_input": "2023-02-12T15:56:06.845159Z",
     "iopub.status.busy": "2023-02-12T15:56:06.844197Z",
     "iopub.status.idle": "2023-02-12T15:56:06.856690Z",
     "shell.execute_reply": "2023-02-12T15:56:06.856169Z",
     "shell.execute_reply.started": "2023-02-12T14:33:29.183761Z"
    },
    "id": "gRINjFWWEzUb",
    "papermill": {
     "duration": 0.05366,
     "end_time": "2023-02-12T15:56:06.856797",
     "exception": false,
     "start_time": "2023-02-12T15:56:06.803137",
     "status": "completed"
    },
    "tags": []
   },
   "outputs": [],
   "source": [
    "# Set intial variables and constants\n",
    "%config InlineBackend.figure_format='retina'\n",
    "\n",
    "# Graph Designs\n",
    "sns.set(style='whitegrid', palette='muted', font_scale=1.2)\n",
    "HAPPY_COLORS_PALETTE = [\"#01BEFE\", \"#FFDD00\", \"#FF7D00\", \"#FF006D\", \"#ADFF02\", \"#8F00FF\"]\n",
    "sns.set_palette(sns.color_palette(HAPPY_COLORS_PALETTE))\n",
    "rcParams['figure.figsize'] = 12, 8\n",
    "\n",
    "# Random seed for reproducibilty\n",
    "RANDOM_SEED = 42\n",
    "np.random.seed(RANDOM_SEED)\n",
    "torch.manual_seed(RANDOM_SEED)\n",
    "\n",
    "# Set BERT max sentence length.\n",
    "MAX_LEN = 160\n",
    "class_names = ['negative', 'neutral', 'positive']\n",
    "# Set GPU\n",
    "device = torch.device(\"cuda\" if torch.cuda.is_available() else \"cpu\")"
   ]
  },
  {
   "cell_type": "markdown",
   "metadata": {
    "id": "LQOFO5MSEzUf",
    "papermill": {
     "duration": 0.026488,
     "end_time": "2023-02-12T15:56:06.909600",
     "exception": false,
     "start_time": "2023-02-12T15:56:06.883112",
     "status": "completed"
    },
    "tags": []
   },
   "source": [
    "### Load Data"
   ]
  },
  {
   "cell_type": "code",
   "execution_count": 5,
   "metadata": {
    "execution": {
     "iopub.execute_input": "2023-02-12T15:56:06.970668Z",
     "iopub.status.busy": "2023-02-12T15:56:06.970062Z",
     "iopub.status.idle": "2023-02-12T15:56:06.984380Z",
     "shell.execute_reply": "2023-02-12T15:56:06.984781Z",
     "shell.execute_reply.started": "2023-02-12T14:33:29.204718Z"
    },
    "id": "g6b5ajqzEzUg",
    "outputId": "a7888891-5d69-42b7-a1e0-ccdbe75f04e4",
    "papermill": {
     "duration": 0.048745,
     "end_time": "2023-02-12T15:56:06.984915",
     "exception": false,
     "start_time": "2023-02-12T15:56:06.936170",
     "status": "completed"
    },
    "tags": []
   },
   "outputs": [
    {
     "data": {
      "text/plain": [
       "(266, 5)"
      ]
     },
     "execution_count": 5,
     "metadata": {},
     "output_type": "execute_result"
    }
   ],
   "source": [
    "df = pd.read_csv('../nlptask/sentences_with_sentiment.csv', sep =\",\")\n",
    "df.shape"
   ]
  },
  {
   "cell_type": "code",
   "execution_count": 6,
   "metadata": {
    "execution": {
     "iopub.execute_input": "2023-02-12T15:56:07.051440Z",
     "iopub.status.busy": "2023-02-12T15:56:07.050642Z",
     "iopub.status.idle": "2023-02-12T15:56:07.059660Z",
     "shell.execute_reply": "2023-02-12T15:56:07.059187Z",
     "shell.execute_reply.started": "2023-02-12T14:33:29.234205Z"
    },
    "id": "eQ5Uwg8xEzUk",
    "outputId": "2b23324b-d208-462f-d011-95c2f7847390",
    "papermill": {
     "duration": 0.048149,
     "end_time": "2023-02-12T15:56:07.059768",
     "exception": false,
     "start_time": "2023-02-12T15:56:07.011619",
     "status": "completed"
    },
    "tags": []
   },
   "outputs": [
    {
     "data": {
      "text/html": [
       "<div>\n",
       "<style scoped>\n",
       "    .dataframe tbody tr th:only-of-type {\n",
       "        vertical-align: middle;\n",
       "    }\n",
       "\n",
       "    .dataframe tbody tr th {\n",
       "        vertical-align: top;\n",
       "    }\n",
       "\n",
       "    .dataframe thead th {\n",
       "        text-align: right;\n",
       "    }\n",
       "</style>\n",
       "<table border=\"1\" class=\"dataframe\">\n",
       "  <thead>\n",
       "    <tr style=\"text-align: right;\">\n",
       "      <th></th>\n",
       "      <th>ID</th>\n",
       "      <th>Sentence</th>\n",
       "      <th>Positive</th>\n",
       "      <th>Negative</th>\n",
       "      <th>Neutral</th>\n",
       "    </tr>\n",
       "  </thead>\n",
       "  <tbody>\n",
       "    <tr>\n",
       "      <th>0</th>\n",
       "      <td>1</td>\n",
       "      <td>The results in 2nd line treatment show an ORR ...</td>\n",
       "      <td>1</td>\n",
       "      <td>0</td>\n",
       "      <td>0</td>\n",
       "    </tr>\n",
       "    <tr>\n",
       "      <th>1</th>\n",
       "      <td>2</td>\n",
       "      <td>The long duration of response and high durable...</td>\n",
       "      <td>1</td>\n",
       "      <td>0</td>\n",
       "      <td>0</td>\n",
       "    </tr>\n",
       "    <tr>\n",
       "      <th>2</th>\n",
       "      <td>3</td>\n",
       "      <td>The median OS time in the updated results exce...</td>\n",
       "      <td>0</td>\n",
       "      <td>0</td>\n",
       "      <td>1</td>\n",
       "    </tr>\n",
       "    <tr>\n",
       "      <th>3</th>\n",
       "      <td>4</td>\n",
       "      <td>Therefore, the clinical benefit in 2nd line tr...</td>\n",
       "      <td>1</td>\n",
       "      <td>0</td>\n",
       "      <td>0</td>\n",
       "    </tr>\n",
       "    <tr>\n",
       "      <th>4</th>\n",
       "      <td>5</td>\n",
       "      <td>The data provided in 1st line, although prelim...</td>\n",
       "      <td>1</td>\n",
       "      <td>0</td>\n",
       "      <td>0</td>\n",
       "    </tr>\n",
       "  </tbody>\n",
       "</table>\n",
       "</div>"
      ],
      "text/plain": [
       "   ID                                           Sentence  Positive  Negative  \\\n",
       "0   1  The results in 2nd line treatment show an ORR ...         1         0   \n",
       "1   2  The long duration of response and high durable...         1         0   \n",
       "2   3  The median OS time in the updated results exce...         0         0   \n",
       "3   4  Therefore, the clinical benefit in 2nd line tr...         1         0   \n",
       "4   5  The data provided in 1st line, although prelim...         1         0   \n",
       "\n",
       "   Neutral  \n",
       "0        0  \n",
       "1        0  \n",
       "2        1  \n",
       "3        0  \n",
       "4        0  "
      ]
     },
     "execution_count": 6,
     "metadata": {},
     "output_type": "execute_result"
    }
   ],
   "source": [
    "# Data inspections\n",
    "df.head()"
   ]
  },
  {
   "cell_type": "code",
   "execution_count": 7,
   "metadata": {
    "execution": {
     "iopub.execute_input": "2023-02-12T15:56:07.174135Z",
     "iopub.status.busy": "2023-02-12T15:56:07.173598Z",
     "iopub.status.idle": "2023-02-12T15:56:07.179971Z",
     "shell.execute_reply": "2023-02-12T15:56:07.179494Z",
     "shell.execute_reply.started": "2023-02-12T14:33:29.252090Z"
    },
    "id": "24xNLIJlEzUo",
    "outputId": "eae6af5f-068a-480e-acdd-3c78b3e8a81b",
    "papermill": {
     "duration": 0.039428,
     "end_time": "2023-02-12T15:56:07.180066",
     "exception": false,
     "start_time": "2023-02-12T15:56:07.140638",
     "status": "completed"
    },
    "tags": []
   },
   "outputs": [
    {
     "data": {
      "text/plain": [
       "ID          0\n",
       "Sentence    0\n",
       "Positive    0\n",
       "Negative    0\n",
       "Neutral     0\n",
       "dtype: int64"
      ]
     },
     "execution_count": 7,
     "metadata": {},
     "output_type": "execute_result"
    }
   ],
   "source": [
    "# NaN check\n",
    "df.isnull().sum()"
   ]
  },
  {
   "cell_type": "code",
   "execution_count": 8,
   "metadata": {
    "execution": {
     "iopub.execute_input": "2023-02-12T15:56:07.240620Z",
     "iopub.status.busy": "2023-02-12T15:56:07.239817Z",
     "iopub.status.idle": "2023-02-12T15:56:07.249576Z",
     "shell.execute_reply": "2023-02-12T15:56:07.249114Z",
     "shell.execute_reply.started": "2023-02-12T14:33:29.261588Z"
    },
    "id": "MyK4bEuhEzUy",
    "papermill": {
     "duration": 0.042328,
     "end_time": "2023-02-12T15:56:07.249683",
     "exception": false,
     "start_time": "2023-02-12T15:56:07.207355",
     "status": "completed"
    },
    "tags": []
   },
   "outputs": [],
   "source": [
    "# Function to convert score to sentiment, note the change in definition for Torch\n",
    "def convert_sentiment(row):\n",
    "    if row['Positive'] == 1:\n",
    "        val = 2\n",
    "    elif row['Negative'] ==1:\n",
    "        val=0\n",
    "        \n",
    "    else:\n",
    "        val=1 #neutral is 1 here because of torch limitations\n",
    "    return val\n",
    "\n",
    "# Apply to the dataset \n",
    "df[\"sentiment\"]=df.apply(lambda row: convert_sentiment(row), axis=1)"
   ]
  },
  {
   "cell_type": "markdown",
   "metadata": {
    "id": "JeJSe1hIEzU5",
    "papermill": {
     "duration": 0.02681,
     "end_time": "2023-02-12T15:56:07.303828",
     "exception": false,
     "start_time": "2023-02-12T15:56:07.277018",
     "status": "completed"
    },
    "tags": []
   },
   "source": [
    "## Data Preprocessing\n",
    "\n",
    "Cleaning and BERT-specific tokenization of input sentences.\n",
    "\n",
    "Here are the requirements:\n",
    "\n",
    "* Add special tokens to separate sentences and do classification\n",
    "* Pass sequences of constant length (introduce padding)\n",
    "* Create array of 0s (pad token) and 1s (real token) called attention mask\n"
   ]
  },
  {
   "cell_type": "code",
   "execution_count": 9,
   "metadata": {
    "execution": {
     "iopub.execute_input": "2023-02-12T15:56:07.369614Z",
     "iopub.status.busy": "2023-02-12T15:56:07.368860Z",
     "iopub.status.idle": "2023-02-12T15:56:07.818381Z",
     "shell.execute_reply": "2023-02-12T15:56:07.818852Z",
     "shell.execute_reply.started": "2023-02-12T14:33:29.281251Z"
    },
    "papermill": {
     "duration": 0.487274,
     "end_time": "2023-02-12T15:56:07.818994",
     "exception": false,
     "start_time": "2023-02-12T15:56:07.331720",
     "status": "completed"
    },
    "tags": []
   },
   "outputs": [
    {
     "data": {
      "text/html": [
       "<div>\n",
       "<style scoped>\n",
       "    .dataframe tbody tr th:only-of-type {\n",
       "        vertical-align: middle;\n",
       "    }\n",
       "\n",
       "    .dataframe tbody tr th {\n",
       "        vertical-align: top;\n",
       "    }\n",
       "\n",
       "    .dataframe thead th {\n",
       "        text-align: right;\n",
       "    }\n",
       "</style>\n",
       "<table border=\"1\" class=\"dataframe\">\n",
       "  <thead>\n",
       "    <tr style=\"text-align: right;\">\n",
       "      <th></th>\n",
       "      <th>ID</th>\n",
       "      <th>Sentence</th>\n",
       "      <th>Positive</th>\n",
       "      <th>Negative</th>\n",
       "      <th>Neutral</th>\n",
       "      <th>sentiment</th>\n",
       "      <th>clean</th>\n",
       "      <th>clean_stem</th>\n",
       "    </tr>\n",
       "  </thead>\n",
       "  <tbody>\n",
       "    <tr>\n",
       "      <th>0</th>\n",
       "      <td>1</td>\n",
       "      <td>The results in 2nd line treatment show an ORR ...</td>\n",
       "      <td>1</td>\n",
       "      <td>0</td>\n",
       "      <td>0</td>\n",
       "      <td>2</td>\n",
       "      <td>results 2nd line treatment show orr 33 patient...</td>\n",
       "      <td>result 2nd line treatment show orr 33 patient ...</td>\n",
       "    </tr>\n",
       "    <tr>\n",
       "      <th>1</th>\n",
       "      <td>2</td>\n",
       "      <td>The long duration of response and high durable...</td>\n",
       "      <td>1</td>\n",
       "      <td>0</td>\n",
       "      <td>0</td>\n",
       "      <td>2</td>\n",
       "      <td>long duration response high durable response r...</td>\n",
       "      <td>long durat respons high durabl respons rate ob...</td>\n",
       "    </tr>\n",
       "    <tr>\n",
       "      <th>2</th>\n",
       "      <td>3</td>\n",
       "      <td>The median OS time in the updated results exce...</td>\n",
       "      <td>0</td>\n",
       "      <td>0</td>\n",
       "      <td>1</td>\n",
       "      <td>1</td>\n",
       "      <td>median os time updated results exceeded 1 year</td>\n",
       "      <td>median os time updat result exceed 1 year</td>\n",
       "    </tr>\n",
       "    <tr>\n",
       "      <th>3</th>\n",
       "      <td>4</td>\n",
       "      <td>Therefore, the clinical benefit in 2nd line tr...</td>\n",
       "      <td>1</td>\n",
       "      <td>0</td>\n",
       "      <td>0</td>\n",
       "      <td>2</td>\n",
       "      <td>therefore clinical benefit 2nd line treatment ...</td>\n",
       "      <td>therefor clinic benefit 2nd line treatment con...</td>\n",
       "    </tr>\n",
       "    <tr>\n",
       "      <th>4</th>\n",
       "      <td>5</td>\n",
       "      <td>The data provided in 1st line, although prelim...</td>\n",
       "      <td>1</td>\n",
       "      <td>0</td>\n",
       "      <td>0</td>\n",
       "      <td>2</td>\n",
       "      <td>data provided 1st line although preliminary sh...</td>\n",
       "      <td>data provid 1st line although preliminari show...</td>\n",
       "    </tr>\n",
       "  </tbody>\n",
       "</table>\n",
       "</div>"
      ],
      "text/plain": [
       "   ID                                           Sentence  Positive  Negative  \\\n",
       "0   1  The results in 2nd line treatment show an ORR ...         1         0   \n",
       "1   2  The long duration of response and high durable...         1         0   \n",
       "2   3  The median OS time in the updated results exce...         0         0   \n",
       "3   4  Therefore, the clinical benefit in 2nd line tr...         1         0   \n",
       "4   5  The data provided in 1st line, although prelim...         1         0   \n",
       "\n",
       "   Neutral  sentiment                                              clean  \\\n",
       "0        0          2  results 2nd line treatment show orr 33 patient...   \n",
       "1        0          2  long duration response high durable response r...   \n",
       "2        1          1     median os time updated results exceeded 1 year   \n",
       "3        0          2  therefore clinical benefit 2nd line treatment ...   \n",
       "4        0          2  data provided 1st line although preliminary sh...   \n",
       "\n",
       "                                          clean_stem  \n",
       "0  result 2nd line treatment show orr 33 patient ...  \n",
       "1  long durat respons high durabl respons rate ob...  \n",
       "2          median os time updat result exceed 1 year  \n",
       "3  therefor clinic benefit 2nd line treatment con...  \n",
       "4  data provid 1st line although preliminari show...  "
      ]
     },
     "execution_count": 9,
     "metadata": {},
     "output_type": "execute_result"
    }
   ],
   "source": [
    "from nltk.stem import SnowballStemmer\n",
    "from nltk.corpus import stopwords\n",
    "\n",
    "def clean(sentence): \n",
    "    # changing to lower case\n",
    "    lower = sentence.str.lower()\n",
    "    \n",
    "    # Replacing the repeating pattern of &#039;\n",
    "    pattern_remove = lower.str.replace(\"&#039;\", \"\")\n",
    "    \n",
    "    # Removing all the special Characters\n",
    "    special_remove = pattern_remove.str.replace(r'[^\\w\\d\\s]',' ')\n",
    "    \n",
    "    # Removing all the non ASCII characters\n",
    "    ascii_remove = special_remove.str.replace(r'[^\\x00-\\x7F]+',' ')\n",
    "    \n",
    "    # Removing the leading and trailing Whitespaces\n",
    "    whitespace_remove = ascii_remove.str.replace(r'^\\s+|\\s+?$','')\n",
    "    \n",
    "    # Replacing multiple Spaces with Single Space\n",
    "    multiw_remove = whitespace_remove.str.replace(r'\\s+',' ')\n",
    "    \n",
    "    # Replacing Two or more dots with one\n",
    "    dataframe = multiw_remove.str.replace(r'\\.{2,}', ' ')\n",
    "    \n",
    "    return dataframe\n",
    "# Data cleaning\n",
    "def processing(data):\n",
    "    data['clean'] =clean(data['Sentence'])\n",
    "    stop_words = set(stopwords.words('english'))\n",
    "    data['clean'] = data['clean'].apply(lambda x: ' '.join(word for word in x.split() if word not in stop_words))\n",
    "    # Can also stem words\n",
    "    Snow_ball = SnowballStemmer(\"english\")\n",
    "    data['clean_stem'] = data['clean'].apply(lambda x: \" \".join(Snow_ball.stem(word) for word in x.split()))\n",
    "\n",
    "    return data\n",
    "\n",
    "df = processing(df)\n",
    "\n",
    "df.head()"
   ]
  },
  {
   "cell_type": "code",
   "execution_count": 10,
   "metadata": {
    "execution": {
     "iopub.execute_input": "2023-02-12T15:56:07.880295Z",
     "iopub.status.busy": "2023-02-12T15:56:07.879497Z",
     "iopub.status.idle": "2023-02-12T15:56:08.849553Z",
     "shell.execute_reply": "2023-02-12T15:56:08.849050Z",
     "shell.execute_reply.started": "2023-02-12T14:33:29.729433Z"
    },
    "id": "Uj5eXyqYEzU6",
    "outputId": "4a6b71ec-7503-4884-c669-08383d60225e",
    "papermill": {
     "duration": 1.001857,
     "end_time": "2023-02-12T15:56:08.849665",
     "exception": false,
     "start_time": "2023-02-12T15:56:07.847808",
     "status": "completed"
    },
    "tags": []
   },
   "outputs": [
    {
     "data": {
      "application/vnd.jupyter.widget-view+json": {
       "model_id": "9bb1c0622abf4b92911fa8c1976c856d",
       "version_major": 2,
       "version_minor": 0
      },
      "text/plain": [
       "HBox(children=(FloatProgress(value=0.0, description='Downloading', max=231508.0, style=ProgressStyle(descripti…"
      ]
     },
     "metadata": {},
     "output_type": "display_data"
    },
    {
     "name": "stdout",
     "output_type": "stream",
     "text": [
      "\n"
     ]
    }
   ],
   "source": [
    "# Set the model name\n",
    "MODEL_NAME = 'bert-large-uncased'\n",
    "\n",
    "# Build a BERT based tokenizer \n",
    "tokenizer = BertTokenizer.from_pretrained(MODEL_NAME)"
   ]
  },
  {
   "cell_type": "markdown",
   "metadata": {
    "id": "5owK7q5hEzVL",
    "papermill": {
     "duration": 0.028332,
     "end_time": "2023-02-12T15:56:08.906366",
     "exception": false,
     "start_time": "2023-02-12T15:56:08.878034",
     "status": "completed"
    },
    "tags": []
   },
   "source": [
    "### Dataset Preparation\n",
    "\n",
    "Define Pytorch-specific Dataset class, and allow for on-demand encoding  using BertTokenizer.\n",
    "Following this, perform train-test data split and build dataloaders."
   ]
  },
  {
   "cell_type": "code",
   "execution_count": 11,
   "metadata": {
    "execution": {
     "iopub.execute_input": "2023-02-12T15:56:08.971284Z",
     "iopub.status.busy": "2023-02-12T15:56:08.970478Z",
     "iopub.status.idle": "2023-02-12T15:56:08.973271Z",
     "shell.execute_reply": "2023-02-12T15:56:08.972817Z",
     "shell.execute_reply.started": "2023-02-12T14:33:31.646119Z"
    },
    "id": "Sbakw3KIEzVM",
    "papermill": {
     "duration": 0.039077,
     "end_time": "2023-02-12T15:56:08.973417",
     "exception": false,
     "start_time": "2023-02-12T15:56:08.934340",
     "status": "completed"
    },
    "tags": []
   },
   "outputs": [],
   "source": [
    "class BayerReviewDataset(Dataset):\n",
    "    # Constructor Function \n",
    "    def __init__(self, reviews, targets, tokenizer, max_len):\n",
    "        self.reviews = reviews\n",
    "        self.targets = targets\n",
    "        self.tokenizer = tokenizer\n",
    "        self.max_len = max_len\n",
    "    \n",
    "    # Length magic method\n",
    "    def __len__(self):\n",
    "        return len(self.reviews)\n",
    "    def get_labels(self):\n",
    "        return self.targets\n",
    "    \n",
    "    # get item magic method\n",
    "    def __getitem__(self, item):\n",
    "        review = str(self.reviews[item])\n",
    "        target = self.targets[item]\n",
    "        \n",
    "        # Encoded format to be returned \n",
    "        encoding = self.tokenizer.encode_plus(\n",
    "            review,\n",
    "            add_special_tokens=True,\n",
    "            max_length=self.max_len,\n",
    "            return_token_type_ids=False,\n",
    "            pad_to_max_length=True,\n",
    "            return_attention_mask=True,\n",
    "            return_tensors='pt',\n",
    "        )\n",
    "        \n",
    "        return {\n",
    "            'review_text': review,\n",
    "            'input_ids': encoding['input_ids'].flatten(),\n",
    "            'attention_mask': encoding['attention_mask'].flatten(),\n",
    "            'targets': torch.tensor(target, dtype=torch.long)\n",
    "        }"
   ]
  },
  {
   "cell_type": "code",
   "execution_count": 12,
   "metadata": {
    "execution": {
     "iopub.execute_input": "2023-02-12T15:56:09.035411Z",
     "iopub.status.busy": "2023-02-12T15:56:09.034599Z",
     "iopub.status.idle": "2023-02-12T15:56:09.129451Z",
     "shell.execute_reply": "2023-02-12T15:56:09.128935Z",
     "shell.execute_reply.started": "2023-02-12T14:34:08.145247Z"
    },
    "id": "qIXH-Y-gEzVQ",
    "outputId": "162ea24f-7bc4-4631-bdc7-8a795334934d",
    "papermill": {
     "duration": 0.128032,
     "end_time": "2023-02-12T15:56:09.129573",
     "exception": false,
     "start_time": "2023-02-12T15:56:09.001541",
     "status": "completed"
    },
    "tags": []
   },
   "outputs": [],
   "source": [
    "from imblearn.over_sampling import SMOTE, ADASYN, BorderlineSMOTE, SVMSMOTE, RandomOverSampler\n",
    "# Data split 80% train data and 20% validation data.\n",
    "# You can alternatively also split it 8-1-1, make sure to modify metrics accordingly.\n",
    "df_train, df_val = train_test_split(df, test_size=0.2, random_state=42,stratify=df[\"sentiment\"])\n",
    "\n"
   ]
  },
  {
   "cell_type": "code",
   "execution_count": 13,
   "metadata": {
    "execution": {
     "iopub.execute_input": "2023-02-12T15:56:09.194985Z",
     "iopub.status.busy": "2023-02-12T15:56:09.194024Z",
     "iopub.status.idle": "2023-02-12T15:56:09.335505Z",
     "shell.execute_reply": "2023-02-12T15:56:09.334964Z",
     "shell.execute_reply.started": "2023-02-11T12:19:16.629585Z"
    },
    "id": "c7SCbUlmEzVT",
    "papermill": {
     "duration": 0.177057,
     "end_time": "2023-02-12T15:56:09.335620",
     "exception": false,
     "start_time": "2023-02-12T15:56:09.158563",
     "status": "completed"
    },
    "tags": []
   },
   "outputs": [],
   "source": [
    "\n",
    "from torchsampler import ImbalancedDatasetSampler\n",
    "#Create a dataloader to release data in batches.\n",
    "\n",
    "def create_train_data_loader(df, tokenizer, max_len, batch_size):\n",
    "    ds = BayerReviewDataset(\n",
    "        reviews=df.Sentence.to_numpy(),\n",
    "        targets=df.sentiment.to_numpy(),\n",
    "        tokenizer=tokenizer,\n",
    "        max_len=max_len\n",
    "    )\n",
    "    \n",
    "    return DataLoader(\n",
    "        ds,\n",
    "        sampler=ImbalancedDatasetSampler(ds),\n",
    "        batch_size=batch_size,\n",
    "        num_workers=0\n",
    "    )\n",
    "\n",
    "\n",
    "def create_test_data_loader(df, tokenizer, max_len, batch_size):\n",
    "    ds = BayerReviewDataset(\n",
    "        reviews=df.Sentence.to_numpy(),\n",
    "        targets=df.sentiment.to_numpy(),\n",
    "        tokenizer=tokenizer,\n",
    "        max_len=max_len\n",
    "    )\n",
    "    \n",
    "    return DataLoader(\n",
    "        ds,\n",
    "        batch_size=batch_size,\n",
    "        num_workers=0\n",
    "    )"
   ]
  },
  {
   "cell_type": "code",
   "execution_count": 14,
   "metadata": {
    "execution": {
     "iopub.execute_input": "2023-02-12T15:56:09.402320Z",
     "iopub.status.busy": "2023-02-12T15:56:09.401589Z",
     "iopub.status.idle": "2023-02-12T15:56:09.421437Z",
     "shell.execute_reply": "2023-02-12T15:56:09.420929Z",
     "shell.execute_reply.started": "2023-02-11T12:19:17.375801Z"
    },
    "id": "31-GApKIEzVW",
    "papermill": {
     "duration": 0.057784,
     "end_time": "2023-02-12T15:56:09.421541",
     "exception": false,
     "start_time": "2023-02-12T15:56:09.363757",
     "status": "completed"
    },
    "tags": []
   },
   "outputs": [],
   "source": [
    "# Create train, andval data loaders\n",
    "BATCH_SIZE = 16\n",
    "train_data_loader = create_train_data_loader(df_train, tokenizer, MAX_LEN, BATCH_SIZE)\n",
    "val_data_loader = create_test_data_loader(df_val, tokenizer, MAX_LEN, BATCH_SIZE)\n"
   ]
  },
  {
   "cell_type": "code",
   "execution_count": 15,
   "metadata": {
    "execution": {
     "iopub.execute_input": "2023-02-12T15:56:09.486909Z",
     "iopub.status.busy": "2023-02-12T15:56:09.485635Z",
     "iopub.status.idle": "2023-02-12T15:56:09.544624Z",
     "shell.execute_reply": "2023-02-12T15:56:09.543729Z",
     "shell.execute_reply.started": "2023-02-11T12:19:20.873316Z"
    },
    "id": "6ZPtu0jjEzVc",
    "outputId": "dd0bb267-6d3d-4ce1-8c81-76b8e4d1beca",
    "papermill": {
     "duration": 0.095106,
     "end_time": "2023-02-12T15:56:09.544742",
     "exception": false,
     "start_time": "2023-02-12T15:56:09.449636",
     "status": "completed"
    },
    "tags": []
   },
   "outputs": [
    {
     "name": "stderr",
     "output_type": "stream",
     "text": [
      "Truncation was not explicitly activated but `max_length` is provided a specific value, please use `truncation=True` to explicitly truncate examples to max length. Defaulting to 'longest_first' truncation strategy. If you encode pairs of sequences (GLUE-style) with the tokenizer you can select this strategy more precisely by providing a specific strategy to `truncation`.\n"
     ]
    },
    {
     "name": "stdout",
     "output_type": "stream",
     "text": [
      "dict_keys(['review_text', 'input_ids', 'attention_mask', 'targets'])\n",
      "torch.Size([16, 160])\n",
      "torch.Size([16, 160])\n",
      "torch.Size([16])\n"
     ]
    }
   ],
   "source": [
    "# Examples \n",
    "data = next(iter(train_data_loader))\n",
    "print(data.keys())\n",
    "\n",
    "print(data['input_ids'].shape)\n",
    "print(data['attention_mask'].shape)\n",
    "print(data['targets'].shape)"
   ]
  },
  {
   "cell_type": "markdown",
   "metadata": {
    "id": "bnRQaNQ0EzVf",
    "papermill": {
     "duration": 0.028391,
     "end_time": "2023-02-12T15:56:09.603124",
     "exception": false,
     "start_time": "2023-02-12T15:56:09.574733",
     "status": "completed"
    },
    "tags": []
   },
   "source": [
    "## Transfer Learning with BERT for Sentiment Classification\n",
    "\n",
    "We’ll use the basic BertModel and build our sentiment classifier on top of it for our 3 classes.\n",
    "We use a dropout layer for some regularization and a fully-connected layer for our output. \n",
    "\n"
   ]
  },
  {
   "cell_type": "code",
   "execution_count": 16,
   "metadata": {
    "execution": {
     "iopub.execute_input": "2023-02-12T15:56:09.665722Z",
     "iopub.status.busy": "2023-02-12T15:56:09.664857Z",
     "iopub.status.idle": "2023-02-12T15:57:20.499810Z",
     "shell.execute_reply": "2023-02-12T15:57:20.499309Z",
     "shell.execute_reply.started": "2023-02-11T12:19:33.507887Z"
    },
    "id": "1oVuK0UUEzVg",
    "outputId": "354aaaea-b336-41cc-a1de-8a5583545f17",
    "papermill": {
     "duration": 70.867683,
     "end_time": "2023-02-12T15:57:20.499928",
     "exception": false,
     "start_time": "2023-02-12T15:56:09.632245",
     "status": "completed"
    },
    "tags": []
   },
   "outputs": [
    {
     "data": {
      "application/vnd.jupyter.widget-view+json": {
       "model_id": "cf1c4d89ed8f4ce1b0132d0cfe0aa848",
       "version_major": 2,
       "version_minor": 0
      },
      "text/plain": [
       "HBox(children=(FloatProgress(value=0.0, description='Downloading', max=571.0, style=ProgressStyle(description_…"
      ]
     },
     "metadata": {},
     "output_type": "display_data"
    },
    {
     "name": "stdout",
     "output_type": "stream",
     "text": [
      "\n"
     ]
    },
    {
     "data": {
      "application/vnd.jupyter.widget-view+json": {
       "model_id": "ebb118bdc2f646198b48d726c5338e8e",
       "version_major": 2,
       "version_minor": 0
      },
      "text/plain": [
       "HBox(children=(FloatProgress(value=0.0, description='Downloading', max=1344997306.0, style=ProgressStyle(descr…"
      ]
     },
     "metadata": {},
     "output_type": "display_data"
    },
    {
     "name": "stdout",
     "output_type": "stream",
     "text": [
      "\n"
     ]
    }
   ],
   "source": [
    "# Load the basic BERT model \n",
    "bert_model = BertModel.from_pretrained(MODEL_NAME)"
   ]
  },
  {
   "cell_type": "code",
   "execution_count": 17,
   "metadata": {
    "execution": {
     "iopub.execute_input": "2023-02-12T15:57:20.567952Z",
     "iopub.status.busy": "2023-02-12T15:57:20.567125Z",
     "iopub.status.idle": "2023-02-12T15:57:20.569610Z",
     "shell.execute_reply": "2023-02-12T15:57:20.569996Z",
     "shell.execute_reply.started": "2023-02-11T12:20:17.571547Z"
    },
    "id": "v98I1vshEzVi",
    "papermill": {
     "duration": 0.040126,
     "end_time": "2023-02-12T15:57:20.570122",
     "exception": false,
     "start_time": "2023-02-12T15:57:20.529996",
     "status": "completed"
    },
    "tags": []
   },
   "outputs": [],
   "source": [
    "# Build the Sentiment Classifier class \n",
    "class SentimentClassifier(nn.Module):\n",
    "    \n",
    "    # Constructor class \n",
    "    def __init__(self, n_classes):\n",
    "        super(SentimentClassifier, self).__init__()\n",
    "        self.bert = BertModel.from_pretrained(MODEL_NAME)\n",
    "        self.drop = nn.Dropout(p=0.3)\n",
    "        self.out = nn.Linear(self.bert.config.hidden_size, n_classes)\n",
    "    \n",
    "    # Forward propagaion class\n",
    "    def forward(self, input_ids, attention_mask):\n",
    "        _, pooled_output = self.bert(\n",
    "          input_ids=input_ids,\n",
    "          attention_mask=attention_mask\n",
    "        )\n",
    "        #  Add a dropout layer \n",
    "        output = self.drop(pooled_output)\n",
    "        return self.out(output)"
   ]
  },
  {
   "cell_type": "code",
   "execution_count": 18,
   "metadata": {
    "execution": {
     "iopub.execute_input": "2023-02-12T15:57:20.636847Z",
     "iopub.status.busy": "2023-02-12T15:57:20.636271Z",
     "iopub.status.idle": "2023-02-12T15:57:35.848164Z",
     "shell.execute_reply": "2023-02-12T15:57:35.847088Z",
     "shell.execute_reply.started": "2023-02-11T12:20:17.582223Z"
    },
    "id": "5eh4ytjBEzVm",
    "papermill": {
     "duration": 15.247909,
     "end_time": "2023-02-12T15:57:35.848338",
     "exception": false,
     "start_time": "2023-02-12T15:57:20.600429",
     "status": "completed"
    },
    "tags": []
   },
   "outputs": [],
   "source": [
    "# Instantiate the model and move to classifier\n",
    "model = SentimentClassifier(3)\n",
    "model = model.to(device)"
   ]
  },
  {
   "cell_type": "markdown",
   "metadata": {
    "id": "wqNrk3laEzVr",
    "papermill": {
     "duration": 0.029642,
     "end_time": "2023-02-12T15:57:35.908766",
     "exception": false,
     "start_time": "2023-02-12T15:57:35.879124",
     "status": "completed"
    },
    "tags": []
   },
   "source": [
    "#### Model Characterstics"
   ]
  },
  {
   "cell_type": "code",
   "execution_count": 19,
   "metadata": {
    "execution": {
     "iopub.execute_input": "2023-02-12T15:57:35.973633Z",
     "iopub.status.busy": "2023-02-12T15:57:35.972900Z",
     "iopub.status.idle": "2023-02-12T15:57:35.976987Z",
     "shell.execute_reply": "2023-02-12T15:57:35.976579Z",
     "shell.execute_reply.started": "2023-02-11T12:20:23.093668Z"
    },
    "id": "iFkXhnrLEzVr",
    "outputId": "f065e9d5-9ca5-4a7e-9c20-e953d5da05f1",
    "papermill": {
     "duration": 0.038025,
     "end_time": "2023-02-12T15:57:35.977081",
     "exception": false,
     "start_time": "2023-02-12T15:57:35.939056",
     "status": "completed"
    },
    "tags": []
   },
   "outputs": [
    {
     "name": "stdout",
     "output_type": "stream",
     "text": [
      "1024\n"
     ]
    }
   ],
   "source": [
    "# Number of hidden units\n",
    "print(bert_model.config.hidden_size)"
   ]
  },
  {
   "cell_type": "markdown",
   "metadata": {
    "id": "_TcSxv4NEzVv",
    "papermill": {
     "duration": 0.029905,
     "end_time": "2023-02-12T15:57:36.037074",
     "exception": false,
     "start_time": "2023-02-12T15:57:36.007169",
     "status": "completed"
    },
    "tags": []
   },
   "source": [
    "### Model Training\n",
    "\n",
    "Using the AdamW optimizer provided by Hugging Face, which corrects weight decay. \n",
    "Also using a linear scheduler with no warmup."
   ]
  },
  {
   "cell_type": "code",
   "execution_count": 20,
   "metadata": {
    "execution": {
     "iopub.execute_input": "2023-02-12T15:57:36.108459Z",
     "iopub.status.busy": "2023-02-12T15:57:36.107681Z",
     "iopub.status.idle": "2023-02-12T15:57:36.110804Z",
     "shell.execute_reply": "2023-02-12T15:57:36.110192Z",
     "shell.execute_reply.started": "2023-02-11T12:20:37.570737Z"
    },
    "id": "CEQfhsdnEzVw",
    "papermill": {
     "duration": 0.043754,
     "end_time": "2023-02-12T15:57:36.110914",
     "exception": false,
     "start_time": "2023-02-12T15:57:36.067160",
     "status": "completed"
    },
    "tags": []
   },
   "outputs": [],
   "source": [
    "# Number of iterations \n",
    "EPOCHS = 40\n",
    "\n",
    "# Optimizer Adam \n",
    "optimizer = AdamW(model.parameters(), lr=2e-6, correct_bias=False)\n",
    "\n",
    "total_steps = len(train_data_loader) * EPOCHS\n",
    "\n",
    "scheduler = get_linear_schedule_with_warmup(\n",
    "    optimizer,\n",
    "    num_warmup_steps=0,\n",
    "    num_training_steps=total_steps\n",
    ")\n",
    "\n",
    "# Set the loss function \n",
    "loss_fn = nn.CrossEntropyLoss().to(device)"
   ]
  },
  {
   "cell_type": "code",
   "execution_count": 21,
   "metadata": {
    "execution": {
     "iopub.execute_input": "2023-02-12T15:57:36.182616Z",
     "iopub.status.busy": "2023-02-12T15:57:36.180780Z",
     "iopub.status.idle": "2023-02-12T15:57:36.183176Z",
     "shell.execute_reply": "2023-02-12T15:57:36.183628Z",
     "shell.execute_reply.started": "2023-02-11T12:20:37.782886Z"
    },
    "id": "jYmCvwhmEzVz",
    "papermill": {
     "duration": 0.04262,
     "end_time": "2023-02-12T15:57:36.183747",
     "exception": false,
     "start_time": "2023-02-12T15:57:36.141127",
     "status": "completed"
    },
    "tags": []
   },
   "outputs": [],
   "source": [
    "#  Single epoch training script\n",
    "def train_epoch(model, data_loader, loss_fn, optimizer, device, scheduler, n_examples):\n",
    "    model = model.train()\n",
    "    losses = []\n",
    "    correct_predictions = 0\n",
    "    \n",
    "    for d in data_loader:\n",
    "        input_ids = d[\"input_ids\"].to(device)\n",
    "        attention_mask = d[\"attention_mask\"].to(device)\n",
    "        targets = d[\"targets\"].to(device)\n",
    "        \n",
    "        outputs = model(\n",
    "            input_ids=input_ids,\n",
    "            attention_mask=attention_mask\n",
    "        )\n",
    "        \n",
    "        _, preds = torch.max(outputs, dim=1)\n",
    "        loss = loss_fn(outputs, targets)\n",
    "        correct_predictions += torch.sum(preds == targets)\n",
    "        losses.append(loss.item())\n",
    "        \n",
    "        # Backward prop\n",
    "        loss.backward()\n",
    "        \n",
    "        # Gradient Descent\n",
    "        nn.utils.clip_grad_norm_(model.parameters(), max_norm=1.0)\n",
    "        optimizer.step()\n",
    "        scheduler.step()\n",
    "        optimizer.zero_grad()\n",
    "    \n",
    "    return correct_predictions.double() / n_examples, np.mean(losses)"
   ]
  },
  {
   "cell_type": "code",
   "execution_count": 22,
   "metadata": {
    "execution": {
     "iopub.execute_input": "2023-02-12T15:57:36.252265Z",
     "iopub.status.busy": "2023-02-12T15:57:36.251535Z",
     "iopub.status.idle": "2023-02-12T15:57:36.254485Z",
     "shell.execute_reply": "2023-02-12T15:57:36.254032Z",
     "shell.execute_reply.started": "2023-02-11T12:20:38.179521Z"
    },
    "id": "Yil2jCZfEzV2",
    "papermill": {
     "duration": 0.040791,
     "end_time": "2023-02-12T15:57:36.254586",
     "exception": false,
     "start_time": "2023-02-12T15:57:36.213795",
     "status": "completed"
    },
    "tags": []
   },
   "outputs": [],
   "source": [
    "def eval_model(model, data_loader, loss_fn, device, n_examples):\n",
    "    model = model.eval()\n",
    "    \n",
    "    losses = []\n",
    "    correct_predictions = 0\n",
    "    \n",
    "    with torch.no_grad():\n",
    "        for d in data_loader:\n",
    "            input_ids = d[\"input_ids\"].to(device)\n",
    "            attention_mask = d[\"attention_mask\"].to(device)\n",
    "            targets = d[\"targets\"].to(device)\n",
    "            \n",
    "            # Get model ouptuts\n",
    "            outputs = model(\n",
    "                input_ids=input_ids,\n",
    "                attention_mask=attention_mask\n",
    "            )\n",
    "            \n",
    "            _, preds = torch.max(outputs, dim=1)\n",
    "            loss = loss_fn(outputs, targets)\n",
    "            \n",
    "            correct_predictions += torch.sum(preds == targets)\n",
    "            losses.append(loss.item())\n",
    "            \n",
    "    return correct_predictions.double() / n_examples, np.mean(losses)"
   ]
  },
  {
   "cell_type": "code",
   "execution_count": 23,
   "metadata": {
    "execution": {
     "iopub.execute_input": "2023-02-12T15:57:36.323437Z",
     "iopub.status.busy": "2023-02-12T15:57:36.322609Z",
     "iopub.status.idle": "2023-02-12T16:06:31.569591Z",
     "shell.execute_reply": "2023-02-12T16:06:31.569991Z",
     "shell.execute_reply.started": "2023-02-11T12:20:38.581978Z"
    },
    "id": "tz0rylI3EzV5",
    "outputId": "545b8419-84b1-4b11-af85-1c45bdc118d9",
    "papermill": {
     "duration": 535.285477,
     "end_time": "2023-02-12T16:06:31.570144",
     "exception": false,
     "start_time": "2023-02-12T15:57:36.284667",
     "status": "completed"
    },
    "tags": []
   },
   "outputs": [
    {
     "name": "stdout",
     "output_type": "stream",
     "text": [
      "Epoch 1/40\n",
      "----------\n",
      "Train loss 1.1425183159964425 accuracy 0.4811320754716981\n",
      "Val   loss 0.8327692449092865 accuracy 0.6296296296296295\n",
      "\n",
      "Epoch 2/40\n",
      "----------\n",
      "Train loss 0.7609054020472935 accuracy 0.6745283018867925\n",
      "Val   loss 0.7456496953964233 accuracy 0.7037037037037037\n",
      "\n",
      "Epoch 3/40\n",
      "----------\n",
      "Train loss 0.6118882724217006 accuracy 0.7830188679245282\n",
      "Val   loss 0.7238110154867172 accuracy 0.7592592592592592\n",
      "\n",
      "Epoch 4/40\n",
      "----------\n",
      "Train loss 0.4484501417194094 accuracy 0.8632075471698113\n",
      "Val   loss 0.725923702120781 accuracy 0.7777777777777777\n",
      "\n",
      "Epoch 5/40\n",
      "----------\n",
      "Train loss 0.46848291371549877 accuracy 0.8679245283018867\n",
      "Val   loss 0.7186416238546371 accuracy 0.6851851851851851\n",
      "\n",
      "Epoch 6/40\n",
      "----------\n",
      "Train loss 0.4036400594881603 accuracy 0.9009433962264151\n",
      "Val   loss 0.6653918474912643 accuracy 0.7407407407407407\n",
      "\n",
      "Epoch 7/40\n",
      "----------\n",
      "Train loss 0.27976205732141224 accuracy 0.9669811320754716\n",
      "Val   loss 0.7145658880472183 accuracy 0.7777777777777777\n",
      "\n",
      "Epoch 8/40\n",
      "----------\n",
      "Train loss 0.27079341454165323 accuracy 0.9481132075471698\n",
      "Val   loss 0.6783469691872597 accuracy 0.7962962962962963\n",
      "\n",
      "Epoch 9/40\n",
      "----------\n",
      "Train loss 0.1909965862120901 accuracy 0.9858490566037735\n",
      "Val   loss 0.6248482018709183 accuracy 0.7592592592592592\n",
      "\n",
      "Epoch 10/40\n",
      "----------\n",
      "Train loss 0.1533641932266099 accuracy 1.0\n",
      "Val   loss 0.7346052378416061 accuracy 0.7777777777777777\n",
      "\n",
      "Epoch 11/40\n",
      "----------\n",
      "Train loss 0.12778715948973382 accuracy 0.9952830188679245\n",
      "Val   loss 0.759854182600975 accuracy 0.7777777777777777\n",
      "\n",
      "Epoch 12/40\n",
      "----------\n",
      "Train loss 0.10284810726131711 accuracy 1.0\n",
      "Val   loss 0.7877068445086479 accuracy 0.7962962962962963\n",
      "\n",
      "Epoch 13/40\n",
      "----------\n",
      "Train loss 0.08674678738628115 accuracy 1.0\n",
      "Val   loss 0.8202860951423645 accuracy 0.7777777777777777\n",
      "\n",
      "Epoch 14/40\n",
      "----------\n",
      "Train loss 0.07123997887330395 accuracy 1.0\n",
      "Val   loss 0.8080019056797028 accuracy 0.7962962962962963\n",
      "\n",
      "Epoch 15/40\n",
      "----------\n",
      "Train loss 0.07593170313962869 accuracy 0.9952830188679245\n",
      "Val   loss 0.8617648109793663 accuracy 0.7962962962962963\n",
      "\n",
      "Epoch 16/40\n",
      "----------\n",
      "Train loss 0.06241907285792487 accuracy 1.0\n",
      "Val   loss 0.8193679824471474 accuracy 0.7777777777777777\n",
      "\n",
      "Epoch 17/40\n",
      "----------\n",
      "Train loss 0.06247123809797423 accuracy 0.9952830188679245\n",
      "Val   loss 0.8514649868011475 accuracy 0.7777777777777777\n",
      "\n",
      "Epoch 18/40\n",
      "----------\n",
      "Train loss 0.04953676408955029 accuracy 1.0\n",
      "Val   loss 0.8005550652742386 accuracy 0.8333333333333333\n",
      "\n",
      "Epoch 19/40\n",
      "----------\n",
      "Train loss 0.04303824768534729 accuracy 1.0\n",
      "Val   loss 0.8483423292636871 accuracy 0.7962962962962963\n",
      "\n",
      "Epoch 20/40\n",
      "----------\n",
      "Train loss 0.038182525762489865 accuracy 1.0\n",
      "Val   loss 0.8736364543437958 accuracy 0.7962962962962963\n",
      "\n",
      "Epoch 21/40\n",
      "----------\n",
      "Train loss 0.03438309154340199 accuracy 1.0\n",
      "Val   loss 0.8271744549274445 accuracy 0.7962962962962963\n",
      "\n",
      "Epoch 22/40\n",
      "----------\n",
      "Train loss 0.03789496940693685 accuracy 0.9952830188679245\n",
      "Val   loss 0.8756593689322472 accuracy 0.8148148148148148\n",
      "\n",
      "Epoch 23/40\n",
      "----------\n",
      "Train loss 0.03021101640271289 accuracy 1.0\n",
      "Val   loss 0.8536822944879532 accuracy 0.7962962962962963\n",
      "\n",
      "Epoch 24/40\n",
      "----------\n",
      "Train loss 0.03904758220804589 accuracy 0.9905660377358491\n",
      "Val   loss 0.8970543965697289 accuracy 0.7962962962962963\n",
      "\n",
      "Epoch 25/40\n",
      "----------\n",
      "Train loss 0.02877058887055942 accuracy 1.0\n",
      "Val   loss 0.8717326894402504 accuracy 0.8148148148148148\n",
      "\n",
      "Epoch 26/40\n",
      "----------\n",
      "Train loss 0.03398455852376563 accuracy 0.9905660377358491\n",
      "Val   loss 0.9054789692163467 accuracy 0.7962962962962963\n",
      "\n",
      "Epoch 27/40\n",
      "----------\n",
      "Train loss 0.02479635172390512 accuracy 1.0\n",
      "Val   loss 0.9020682871341705 accuracy 0.7962962962962963\n",
      "\n",
      "Epoch 28/40\n",
      "----------\n",
      "Train loss 0.025231897165732726 accuracy 0.9952830188679245\n",
      "Val   loss 0.9050146490335464 accuracy 0.7962962962962963\n",
      "\n",
      "Epoch 29/40\n",
      "----------\n",
      "Train loss 0.021235177692558085 accuracy 1.0\n",
      "Val   loss 0.9132408797740936 accuracy 0.7962962962962963\n",
      "\n",
      "Epoch 30/40\n",
      "----------\n",
      "Train loss 0.028590432700834105 accuracy 0.9952830188679245\n",
      "Val   loss 0.9170220047235489 accuracy 0.7962962962962963\n",
      "\n",
      "Epoch 31/40\n",
      "----------\n",
      "Train loss 0.02151896365519081 accuracy 1.0\n",
      "Val   loss 0.9023733735084534 accuracy 0.7962962962962963\n",
      "\n",
      "Epoch 32/40\n",
      "----------\n",
      "Train loss 0.019269440988344804 accuracy 1.0\n",
      "Val   loss 0.8944244235754013 accuracy 0.7962962962962963\n",
      "\n",
      "Epoch 33/40\n",
      "----------\n",
      "Train loss 0.020830469339021614 accuracy 1.0\n",
      "Val   loss 0.9148209914565086 accuracy 0.7962962962962963\n",
      "\n",
      "Epoch 34/40\n",
      "----------\n",
      "Train loss 0.01972227563549365 accuracy 1.0\n",
      "Val   loss 0.900213934481144 accuracy 0.8148148148148148\n",
      "\n",
      "Epoch 35/40\n",
      "----------\n",
      "Train loss 0.018529601993837526 accuracy 1.0\n",
      "Val   loss 0.8905134201049805 accuracy 0.8333333333333333\n",
      "\n",
      "Epoch 36/40\n",
      "----------\n",
      "Train loss 0.021204073248164996 accuracy 1.0\n",
      "Val   loss 0.8889041393995285 accuracy 0.8148148148148148\n",
      "\n",
      "Epoch 37/40\n",
      "----------\n",
      "Train loss 0.018693816448960985 accuracy 1.0\n",
      "Val   loss 0.8973711654543877 accuracy 0.8333333333333333\n",
      "\n",
      "Epoch 38/40\n",
      "----------\n",
      "Train loss 0.018065184155212983 accuracy 1.0\n",
      "Val   loss 0.907830111682415 accuracy 0.8148148148148148\n",
      "\n",
      "Epoch 39/40\n",
      "----------\n",
      "Train loss 0.025677502221826996 accuracy 0.9952830188679245\n",
      "Val   loss 0.9100975766777992 accuracy 0.8148148148148148\n",
      "\n",
      "Epoch 40/40\n",
      "----------\n",
      "Train loss 0.018896274002535 accuracy 1.0\n",
      "Val   loss 0.9116742759943008 accuracy 0.8148148148148148\n",
      "\n",
      "CPU times: user 7min 45s, sys: 50.7 s, total: 8min 36s\n",
      "Wall time: 8min 55s\n"
     ]
    }
   ],
   "source": [
    "%%time\n",
    "\n",
    "#Main training script\n",
    "history = defaultdict(list)\n",
    "best_accuracy = 0\n",
    "\n",
    "for epoch in range(EPOCHS):\n",
    "    \n",
    "    # Show details \n",
    "    print(f\"Epoch {epoch + 1}/{EPOCHS}\")\n",
    "    print(\"-\" * 10)\n",
    "    \n",
    "    train_acc, train_loss = train_epoch(\n",
    "        model,\n",
    "        train_data_loader,\n",
    "        loss_fn,\n",
    "        optimizer,\n",
    "        device,\n",
    "        scheduler,\n",
    "        len(df_train)\n",
    "    )\n",
    "    \n",
    "    print(f\"Train loss {train_loss} accuracy {train_acc}\")\n",
    "    \n",
    "    # Get model performance (accuracy and loss)\n",
    "    val_acc, val_loss = eval_model(\n",
    "        model,\n",
    "        val_data_loader,\n",
    "        loss_fn,\n",
    "        device,\n",
    "        len(df_val)\n",
    "    )\n",
    "    \n",
    "    print(f\"Val   loss {val_loss} accuracy {val_acc}\")\n",
    "    print()\n",
    "    \n",
    "    history['train_acc'].append(train_acc)\n",
    "    history['train_loss'].append(train_loss)\n",
    "    history['val_acc'].append(val_acc)\n",
    "    history['val_loss'].append(val_loss)\n",
    "    \n",
    "    # If we beat prev performance\n",
    "    if val_acc > best_accuracy:\n",
    "        torch.save(model.state_dict(), 'best_model_state.bin')\n",
    "        best_accuracy = val_acc"
   ]
  },
  {
   "cell_type": "code",
   "execution_count": 24,
   "metadata": {
    "execution": {
     "iopub.execute_input": "2023-02-12T16:06:31.682847Z",
     "iopub.status.busy": "2023-02-12T16:06:31.682067Z",
     "iopub.status.idle": "2023-02-12T16:06:32.106553Z",
     "shell.execute_reply": "2023-02-12T16:06:32.107044Z",
     "shell.execute_reply.started": "2023-02-11T12:20:51.062193Z"
    },
    "id": "mkOsxRIcHgKt",
    "outputId": "11116244-c94e-43de-f9c5-58dff0c7cc75",
    "papermill": {
     "duration": 0.485414,
     "end_time": "2023-02-12T16:06:32.107185",
     "exception": false,
     "start_time": "2023-02-12T16:06:31.621771",
     "status": "completed"
    },
    "tags": []
   },
   "outputs": [
    {
     "data": {
      "image/png": "[encoded data removed]",
      "text/plain": [
       "<Figure size 864x576 with 1 Axes>"
      ]
     },
     "metadata": {
      "image/png": {
       "height": 506,
       "width": 732
      }
     },
     "output_type": "display_data"
    }
   ],
   "source": [
    "# Plot training and validation accuracy\n",
    "plt.plot(history['train_acc'], label='train accuracy')\n",
    "plt.plot(history['val_acc'], label='validation accuracy')\n",
    "\n",
    "# Graph chars\n",
    "plt.title('Training history')\n",
    "plt.ylabel('Accuracy')\n",
    "plt.xlabel('Epoch')\n",
    "plt.legend()\n",
    "plt.ylim([0, 1]);"
   ]
  },
  {
   "cell_type": "markdown",
   "metadata": {
    "id": "XJ-hTsMQITml",
    "papermill": {
     "duration": 0.053504,
     "end_time": "2023-02-12T16:06:32.219963",
     "exception": false,
     "start_time": "2023-02-12T16:06:32.166459",
     "status": "completed"
    },
    "tags": []
   },
   "source": [
    "### Model Evaluation"
   ]
  },
  {
   "cell_type": "markdown",
   "metadata": {
    "id": "3kjQ5tI8IbIl",
    "papermill": {
     "duration": 0.054168,
     "end_time": "2023-02-12T16:06:32.326870",
     "exception": false,
     "start_time": "2023-02-12T16:06:32.272702",
     "status": "completed"
    },
    "tags": []
   },
   "source": [
    "Define a helper function to get predictions from our models. This is similar to the evaluation function, except that we’re storing the text of the reviews and the predicted probabilities. We also use the same standard utility functions previously used for our other models"
   ]
  },
  {
   "cell_type": "code",
   "execution_count": 25,
   "metadata": {
    "execution": {
     "iopub.execute_input": "2023-02-12T16:06:32.444454Z",
     "iopub.status.busy": "2023-02-12T16:06:32.442511Z",
     "iopub.status.idle": "2023-02-12T16:06:32.445049Z",
     "shell.execute_reply": "2023-02-12T16:06:32.445496Z"
    },
    "id": "C2gJhrUHIfsm",
    "papermill": {
     "duration": 0.065779,
     "end_time": "2023-02-12T16:06:32.445629",
     "exception": false,
     "start_time": "2023-02-12T16:06:32.379850",
     "status": "completed"
    },
    "tags": []
   },
   "outputs": [],
   "source": [
    "def get_predictions(model, data_loader):\n",
    "    model = model.eval()\n",
    "\n",
    "    review_texts = []\n",
    "    predictions = []\n",
    "    prediction_probs = []\n",
    "    real_values = []\n",
    "\n",
    "    with torch.no_grad():\n",
    "        for d in data_loader:\n",
    "            texts = d[\"review_text\"]\n",
    "            input_ids = d[\"input_ids\"].to(device)\n",
    "            attention_mask = d[\"attention_mask\"].to(device)\n",
    "            targets = d[\"targets\"].to(device)\n",
    "\n",
    "            # Get outouts\n",
    "            outputs = model(\n",
    "                input_ids=input_ids,\n",
    "                attention_mask=attention_mask\n",
    "            )\n",
    "            _, preds = torch.max(outputs, dim=1)\n",
    "\n",
    "            review_texts.extend(texts)\n",
    "            predictions.extend(preds)\n",
    "            prediction_probs.extend(outputs)\n",
    "            real_values.extend(targets)\n",
    "\n",
    "    predictions = torch.stack(predictions).cpu()\n",
    "    prediction_probs = torch.stack(prediction_probs).cpu()\n",
    "    real_values = torch.stack(real_values).cpu()\n",
    "\n",
    "    return review_texts, predictions, prediction_probs, real_values"
   ]
  },
  {
   "cell_type": "code",
   "execution_count": 26,
   "metadata": {
    "execution": {
     "iopub.execute_input": "2023-02-12T16:06:32.559562Z",
     "iopub.status.busy": "2023-02-12T16:06:32.558768Z",
     "iopub.status.idle": "2023-02-12T16:06:33.480097Z",
     "shell.execute_reply": "2023-02-12T16:06:33.479561Z"
    },
    "id": "18mV-rdaIy-T",
    "papermill": {
     "duration": 0.980857,
     "end_time": "2023-02-12T16:06:33.480206",
     "exception": false,
     "start_time": "2023-02-12T16:06:32.499349",
     "status": "completed"
    },
    "tags": []
   },
   "outputs": [],
   "source": [
    "y_review_texts, y_pred, y_pred_probs, y_test = get_predictions(\n",
    "    model,\n",
    "    val_data_loader\n",
    ")"
   ]
  },
  {
   "cell_type": "code",
   "execution_count": 27,
   "metadata": {
    "execution": {
     "iopub.execute_input": "2023-02-12T16:06:33.594330Z",
     "iopub.status.busy": "2023-02-12T16:06:33.592866Z",
     "iopub.status.idle": "2023-02-12T16:06:33.596371Z",
     "shell.execute_reply": "2023-02-12T16:06:33.595907Z"
    },
    "papermill": {
     "duration": 0.063318,
     "end_time": "2023-02-12T16:06:33.596478",
     "exception": false,
     "start_time": "2023-02-12T16:06:33.533160",
     "status": "completed"
    },
    "tags": []
   },
   "outputs": [
    {
     "name": "stdout",
     "output_type": "stream",
     "text": [
      "0.8148148148148148\n"
     ]
    }
   ],
   "source": [
    "accuracy =accuracy_score(y_test, y_pred)\n",
    "print(accuracy)"
   ]
  },
  {
   "cell_type": "code",
   "execution_count": 28,
   "metadata": {
    "execution": {
     "iopub.execute_input": "2023-02-12T16:06:33.713622Z",
     "iopub.status.busy": "2023-02-12T16:06:33.712976Z",
     "iopub.status.idle": "2023-02-12T16:06:33.715846Z",
     "shell.execute_reply": "2023-02-12T16:06:33.716273Z"
    },
    "papermill": {
     "duration": 0.066036,
     "end_time": "2023-02-12T16:06:33.716395",
     "exception": false,
     "start_time": "2023-02-12T16:06:33.650359",
     "status": "completed"
    },
    "tags": []
   },
   "outputs": [
    {
     "name": "stdout",
     "output_type": "stream",
     "text": [
      "0.7041847041847041\n"
     ]
    }
   ],
   "source": [
    "accuracy_b =balanced_accuracy_score(y_test, y_pred)\n",
    "print(accuracy_b)"
   ]
  },
  {
   "cell_type": "code",
   "execution_count": 29,
   "metadata": {
    "execution": {
     "iopub.execute_input": "2023-02-12T16:06:33.830358Z",
     "iopub.status.busy": "2023-02-12T16:06:33.829481Z",
     "iopub.status.idle": "2023-02-12T16:06:33.834347Z",
     "shell.execute_reply": "2023-02-12T16:06:33.833897Z"
    },
    "papermill": {
     "duration": 0.064373,
     "end_time": "2023-02-12T16:06:33.834457",
     "exception": false,
     "start_time": "2023-02-12T16:06:33.770084",
     "status": "completed"
    },
    "tags": []
   },
   "outputs": [
    {
     "name": "stdout",
     "output_type": "stream",
     "text": [
      "0.8046940713607379\n"
     ]
    }
   ],
   "source": [
    "f1 =f1_score(y_test, y_pred,average=\"weighted\")\n",
    "print(f1)"
   ]
  },
  {
   "cell_type": "code",
   "execution_count": 30,
   "metadata": {
    "execution": {
     "iopub.execute_input": "2023-02-12T16:06:33.948498Z",
     "iopub.status.busy": "2023-02-12T16:06:33.947601Z",
     "iopub.status.idle": "2023-02-12T16:06:33.955415Z",
     "shell.execute_reply": "2023-02-12T16:06:33.954961Z"
    },
    "id": "1uvXvTrQVcK6",
    "outputId": "2f139229-c8e1-4b2d-ffd8-63af9520fc0a",
    "papermill": {
     "duration": 0.067164,
     "end_time": "2023-02-12T16:06:33.955530",
     "exception": false,
     "start_time": "2023-02-12T16:06:33.888366",
     "status": "completed"
    },
    "tags": []
   },
   "outputs": [
    {
     "name": "stdout",
     "output_type": "stream",
     "text": [
      "              precision    recall  f1-score   support\n",
      "\n",
      "    negative       0.80      0.57      0.67         7\n",
      "     neutral       0.67      0.57      0.62        14\n",
      "    positive       0.86      0.97      0.91        33\n",
      "\n",
      "    accuracy                           0.81        54\n",
      "   macro avg       0.78      0.70      0.73        54\n",
      "weighted avg       0.81      0.81      0.80        54\n",
      "\n"
     ]
    }
   ],
   "source": [
    "print(classification_report(y_test, y_pred, target_names=class_names))"
   ]
  },
  {
   "cell_type": "code",
   "execution_count": 31,
   "metadata": {
    "execution": {
     "iopub.execute_input": "2023-02-12T16:06:34.076398Z",
     "iopub.status.busy": "2023-02-12T16:06:34.075441Z",
     "iopub.status.idle": "2023-02-12T16:06:34.360275Z",
     "shell.execute_reply": "2023-02-12T16:06:34.360740Z"
    },
    "id": "YWVfnVW3VgL-",
    "outputId": "ffc9aecb-4868-4e3c-d3b4-e374372ec3f1",
    "papermill": {
     "duration": 0.350605,
     "end_time": "2023-02-12T16:06:34.360873",
     "exception": false,
     "start_time": "2023-02-12T16:06:34.010268",
     "status": "completed"
    },
    "tags": []
   },
   "outputs": [
    {
     "data": {
      "image/png": "[encoded data removed]",
      "text/plain": [
       "<Figure size 864x576 with 2 Axes>"
      ]
     },
     "metadata": {
      "image/png": {
       "height": 516,
       "width": 716
      }
     },
     "output_type": "display_data"
    }
   ],
   "source": [
    "def show_confusion_matrix(confusion_matrix):\n",
    "    hmap = sns.heatmap(confusion_matrix, annot=True, fmt=\"d\", cmap=\"Blues\")\n",
    "    hmap.yaxis.set_ticklabels(hmap.yaxis.get_ticklabels(), rotation=0, ha='right')\n",
    "    hmap.xaxis.set_ticklabels(hmap.xaxis.get_ticklabels(), rotation=30, ha='right')\n",
    "    plt.ylabel('True sentiment')\n",
    "    plt.xlabel('Predicted sentiment');\n",
    "\n",
    "cm = confusion_matrix(y_test, y_pred)\n",
    "df_cm = pd.DataFrame(cm, index=class_names, columns=class_names)\n",
    "show_confusion_matrix(df_cm)"
   ]
  },
  {
   "cell_type": "markdown",
   "metadata": {
    "id": "z6AQl1YoEzV8",
    "papermill": {
     "duration": 0.056555,
     "end_time": "2023-02-12T16:06:34.474116",
     "exception": false,
     "start_time": "2023-02-12T16:06:34.417561",
     "status": "completed"
    },
    "tags": []
   },
   "source": [
    "## Predicting on raw text"
   ]
  },
  {
   "cell_type": "code",
   "execution_count": 32,
   "metadata": {
    "execution": {
     "iopub.execute_input": "2023-02-12T16:06:34.590441Z",
     "iopub.status.busy": "2023-02-12T16:06:34.589651Z",
     "iopub.status.idle": "2023-02-12T16:06:34.592745Z",
     "shell.execute_reply": "2023-02-12T16:06:34.592180Z"
    },
    "id": "S4CWFF0MEzV9",
    "papermill": {
     "duration": 0.062922,
     "end_time": "2023-02-12T16:06:34.592845",
     "exception": false,
     "start_time": "2023-02-12T16:06:34.529923",
     "status": "completed"
    },
    "tags": []
   },
   "outputs": [],
   "source": [
    "review_text = \"No major concerns were identified in the study\""
   ]
  },
  {
   "cell_type": "code",
   "execution_count": 33,
   "metadata": {
    "execution": {
     "iopub.execute_input": "2023-02-12T16:06:34.711273Z",
     "iopub.status.busy": "2023-02-12T16:06:34.710498Z",
     "iopub.status.idle": "2023-02-12T16:06:34.713360Z",
     "shell.execute_reply": "2023-02-12T16:06:34.712914Z"
    },
    "id": "TOelFhlsSiK2",
    "papermill": {
     "duration": 0.064837,
     "end_time": "2023-02-12T16:06:34.713461",
     "exception": false,
     "start_time": "2023-02-12T16:06:34.648624",
     "status": "completed"
    },
    "tags": []
   },
   "outputs": [],
   "source": [
    "encoded_review = tokenizer.encode_plus(\n",
    "    review_text,\n",
    "    max_length=MAX_LEN,\n",
    "    add_special_tokens=True,\n",
    "    return_token_type_ids=False,\n",
    "    pad_to_max_length=True,\n",
    "    return_attention_mask=True,\n",
    "    return_tensors='pt',\n",
    ")"
   ]
  },
  {
   "cell_type": "code",
   "execution_count": 34,
   "metadata": {
    "execution": {
     "iopub.execute_input": "2023-02-12T16:06:34.830853Z",
     "iopub.status.busy": "2023-02-12T16:06:34.830016Z",
     "iopub.status.idle": "2023-02-12T16:06:34.882665Z",
     "shell.execute_reply": "2023-02-12T16:06:34.883042Z"
    },
    "id": "3LZm3Ag0WGpi",
    "outputId": "adc38462-7a4a-4554-c856-f8af32c3c8c2",
    "papermill": {
     "duration": 0.113734,
     "end_time": "2023-02-12T16:06:34.883170",
     "exception": false,
     "start_time": "2023-02-12T16:06:34.769436",
     "status": "completed"
    },
    "tags": []
   },
   "outputs": [
    {
     "name": "stdout",
     "output_type": "stream",
     "text": [
      "Review text: No major concerns were identified in the study\n",
      "Sentiment  : positive\n"
     ]
    }
   ],
   "source": [
    "input_ids = encoded_review['input_ids'].to(device)\n",
    "attention_mask = encoded_review['attention_mask'].to(device)\n",
    "\n",
    "output = model(input_ids, attention_mask)\n",
    "_, prediction = torch.max(output, dim=1)\n",
    "\n",
    "print(f'Review text: {review_text}')\n",
    "print(f'Sentiment  : {class_names[prediction]}')"
   ]
  },
  {
   "cell_type": "code",
   "execution_count": null,
   "metadata": {
    "papermill": {
     "duration": 0.056591,
     "end_time": "2023-02-12T16:06:34.995720",
     "exception": false,
     "start_time": "2023-02-12T16:06:34.939129",
     "status": "completed"
    },
    "tags": []
   },
   "outputs": [],
   "source": []
  }
 ],
 "metadata": {
  "kernelspec": {
   "display_name": "Python 3 (ipykernel)",
   "language": "python",
   "name": "python3"
  },
  "language_info": {
   "codemirror_mode": {
    "name": "ipython",
    "version": 3
   },
   "file_extension": ".py",
   "mimetype": "text/x-python",
   "name": "python",
   "nbconvert_exporter": "python",
   "pygments_lexer": "ipython3",
   "version": "3.8.5"
  },
  "papermill": {
   "duration": 656.679573,
   "end_time": "2023-02-12T16:06:35.465072",
   "environment_variables": {},
   "exception": null,
   "input_path": "__notebook__.ipynb",
   "output_path": "__notebook__.ipynb",
   "parameters": {},
   "start_time": "2023-02-12T15:55:38.785499",
   "version": "2.1.0"
  },
  "widgets": {
   "application/vnd.jupyter.widget-state+json": {
    "state": {
     "0d4f2c1d97884e349519a89a276eb148": {
      "model_module": "@jupyter-widgets/controls",
      "model_module_version": "1.5.0",
      "model_name": "ProgressStyleModel",
      "state": {
       "_model_module": "@jupyter-widgets/controls",
       "_model_module_version": "1.5.0",
       "_model_name": "ProgressStyleModel",
       "_view_count": null,
       "_view_module": "@jupyter-widgets/base",
       "_view_module_version": "1.2.0",
       "_view_name": "StyleView",
       "bar_color": null,
       "description_width": "initial"
      }
     },
     "3f149f4d856d4a6388244da9402b7dd6": {
      "model_module": "@jupyter-widgets/controls",
      "model_module_version": "1.5.0",
      "model_name": "FloatProgressModel",
      "state": {
       "_dom_classes": [],
       "_model_module": "@jupyter-widgets/controls",
       "_model_module_version": "1.5.0",
       "_model_name": "FloatProgressModel",
       "_view_count": null,
       "_view_module": "@jupyter-widgets/controls",
       "_view_module_version": "1.5.0",
       "_view_name": "ProgressView",
       "bar_style": "success",
       "description": "Downloading: 100%",
       "description_tooltip": null,
       "layout": "IPY_MODEL_63c47843ff5e4b2988e64a56bf1ad05e",
       "max": 231508,
       "min": 0,
       "orientation": "horizontal",
       "style": "IPY_MODEL_0d4f2c1d97884e349519a89a276eb148",
       "value": 231508
      }
     },
     "44701799db104429ae6f569b71f018de": {
      "model_module": "@jupyter-widgets/base",
      "model_module_version": "1.2.0",
      "model_name": "LayoutModel",
      "state": {
       "_model_module": "@jupyter-widgets/base",
       "_model_module_version": "1.2.0",
       "_model_name": "LayoutModel",
       "_view_count": null,
       "_view_module": "@jupyter-widgets/base",
       "_view_module_version": "1.2.0",
       "_view_name": "LayoutView",
       "align_content": null,
       "align_items": null,
       "align_self": null,
       "border": null,
       "bottom": null,
       "display": null,
       "flex": null,
       "flex_flow": null,
       "grid_area": null,
       "grid_auto_columns": null,
       "grid_auto_flow": null,
       "grid_auto_rows": null,
       "grid_column": null,
       "grid_gap": null,
       "grid_row": null,
       "grid_template_areas": null,
       "grid_template_columns": null,
       "grid_template_rows": null,
       "height": null,
       "justify_content": null,
       "justify_items": null,
       "left": null,
       "margin": null,
       "max_height": null,
       "max_width": null,
       "min_height": null,
       "min_width": null,
       "object_fit": null,
       "object_position": null,
       "order": null,
       "overflow": null,
       "overflow_x": null,
       "overflow_y": null,
       "padding": null,
       "right": null,
       "top": null,
       "visibility": null,
       "width": null
      }
     },
     "495e00ead6a14bd5adeb22cdea9c549d": {
      "model_module": "@jupyter-widgets/controls",
      "model_module_version": "1.5.0",
      "model_name": "ProgressStyleModel",
      "state": {
       "_model_module": "@jupyter-widgets/controls",
       "_model_module_version": "1.5.0",
       "_model_name": "ProgressStyleModel",
       "_view_count": null,
       "_view_module": "@jupyter-widgets/base",
       "_view_module_version": "1.2.0",
       "_view_name": "StyleView",
       "bar_color": null,
       "description_width": "initial"
      }
     },
     "54b886d22dfe42af857e1d1b10afa5b7": {
      "model_module": "@jupyter-widgets/base",
      "model_module_version": "1.2.0",
      "model_name": "LayoutModel",
      "state": {
       "_model_module": "@jupyter-widgets/base",
       "_model_module_version": "1.2.0",
       "_model_name": "LayoutModel",
       "_view_count": null,
       "_view_module": "@jupyter-widgets/base",
       "_view_module_version": "1.2.0",
       "_view_name": "LayoutView",
       "align_content": null,
       "align_items": null,
       "align_self": null,
       "border": null,
       "bottom": null,
       "display": null,
       "flex": null,
       "flex_flow": null,
       "grid_area": null,
       "grid_auto_columns": null,
       "grid_auto_flow": null,
       "grid_auto_rows": null,
       "grid_column": null,
       "grid_gap": null,
       "grid_row": null,
       "grid_template_areas": null,
       "grid_template_columns": null,
       "grid_template_rows": null,
       "height": null,
       "justify_content": null,
       "justify_items": null,
       "left": null,
       "margin": null,
       "max_height": null,
       "max_width": null,
       "min_height": null,
       "min_width": null,
       "object_fit": null,
       "object_position": null,
       "order": null,
       "overflow": null,
       "overflow_x": null,
       "overflow_y": null,
       "padding": null,
       "right": null,
       "top": null,
       "visibility": null,
       "width": null
      }
     },
     "6110405a85cd48fcac6e751c90c479ee": {
      "model_module": "@jupyter-widgets/controls",
      "model_module_version": "1.5.0",
      "model_name": "FloatProgressModel",
      "state": {
       "_dom_classes": [],
       "_model_module": "@jupyter-widgets/controls",
       "_model_module_version": "1.5.0",
       "_model_name": "FloatProgressModel",
       "_view_count": null,
       "_view_module": "@jupyter-widgets/controls",
       "_view_module_version": "1.5.0",
       "_view_name": "ProgressView",
       "bar_style": "success",
       "description": "Downloading: 100%",
       "description_tooltip": null,
       "layout": "IPY_MODEL_54b886d22dfe42af857e1d1b10afa5b7",
       "max": 571,
       "min": 0,
       "orientation": "horizontal",
       "style": "IPY_MODEL_495e00ead6a14bd5adeb22cdea9c549d",
       "value": 571
      }
     },
     "633ae0ad8edb47ebad5fcbcdeca24ea3": {
      "model_module": "@jupyter-widgets/base",
      "model_module_version": "1.2.0",
      "model_name": "LayoutModel",
      "state": {
       "_model_module": "@jupyter-widgets/base",
       "_model_module_version": "1.2.0",
       "_model_name": "LayoutModel",
       "_view_count": null,
       "_view_module": "@jupyter-widgets/base",
       "_view_module_version": "1.2.0",
       "_view_name": "LayoutView",
       "align_content": null,
       "align_items": null,
       "align_self": null,
       "border": null,
       "bottom": null,
       "display": null,
       "flex": null,
       "flex_flow": null,
       "grid_area": null,
       "grid_auto_columns": null,
       "grid_auto_flow": null,
       "grid_auto_rows": null,
       "grid_column": null,
       "grid_gap": null,
       "grid_row": null,
       "grid_template_areas": null,
       "grid_template_columns": null,
       "grid_template_rows": null,
       "height": null,
       "justify_content": null,
       "justify_items": null,
       "left": null,
       "margin": null,
       "max_height": null,
       "max_width": null,
       "min_height": null,
       "min_width": null,
       "object_fit": null,
       "object_position": null,
       "order": null,
       "overflow": null,
       "overflow_x": null,
       "overflow_y": null,
       "padding": null,
       "right": null,
       "top": null,
       "visibility": null,
       "width": null
      }
     },
     "63c47843ff5e4b2988e64a56bf1ad05e": {
      "model_module": "@jupyter-widgets/base",
      "model_module_version": "1.2.0",
      "model_name": "LayoutModel",
      "state": {
       "_model_module": "@jupyter-widgets/base",
       "_model_module_version": "1.2.0",
       "_model_name": "LayoutModel",
       "_view_count": null,
       "_view_module": "@jupyter-widgets/base",
       "_view_module_version": "1.2.0",
       "_view_name": "LayoutView",
       "align_content": null,
       "align_items": null,
       "align_self": null,
       "border": null,
       "bottom": null,
       "display": null,
       "flex": null,
       "flex_flow": null,
       "grid_area": null,
       "grid_auto_columns": null,
       "grid_auto_flow": null,
       "grid_auto_rows": null,
       "grid_column": null,
       "grid_gap": null,
       "grid_row": null,
       "grid_template_areas": null,
       "grid_template_columns": null,
       "grid_template_rows": null,
       "height": null,
       "justify_content": null,
       "justify_items": null,
       "left": null,
       "margin": null,
       "max_height": null,
       "max_width": null,
       "min_height": null,
       "min_width": null,
       "object_fit": null,
       "object_position": null,
       "order": null,
       "overflow": null,
       "overflow_x": null,
       "overflow_y": null,
       "padding": null,
       "right": null,
       "top": null,
       "visibility": null,
       "width": null
      }
     },
     "74a7f252d58f40d5abea27b6f717a0cc": {
      "model_module": "@jupyter-widgets/controls",
      "model_module_version": "1.5.0",
      "model_name": "DescriptionStyleModel",
      "state": {
       "_model_module": "@jupyter-widgets/controls",
       "_model_module_version": "1.5.0",
       "_model_name": "DescriptionStyleModel",
       "_view_count": null,
       "_view_module": "@jupyter-widgets/base",
       "_view_module_version": "1.2.0",
       "_view_name": "StyleView",
       "description_width": ""
      }
     },
     "83e3a6a3631143e7b28edc720f50d6a8": {
      "model_module": "@jupyter-widgets/base",
      "model_module_version": "1.2.0",
      "model_name": "LayoutModel",
      "state": {
       "_model_module": "@jupyter-widgets/base",
       "_model_module_version": "1.2.0",
       "_model_name": "LayoutModel",
       "_view_count": null,
       "_view_module": "@jupyter-widgets/base",
       "_view_module_version": "1.2.0",
       "_view_name": "LayoutView",
       "align_content": null,
       "align_items": null,
       "align_self": null,
       "border": null,
       "bottom": null,
       "display": null,
       "flex": null,
       "flex_flow": null,
       "grid_area": null,
       "grid_auto_columns": null,
       "grid_auto_flow": null,
       "grid_auto_rows": null,
       "grid_column": null,
       "grid_gap": null,
       "grid_row": null,
       "grid_template_areas": null,
       "grid_template_columns": null,
       "grid_template_rows": null,
       "height": null,
       "justify_content": null,
       "justify_items": null,
       "left": null,
       "margin": null,
       "max_height": null,
       "max_width": null,
       "min_height": null,
       "min_width": null,
       "object_fit": null,
       "object_position": null,
       "order": null,
       "overflow": null,
       "overflow_x": null,
       "overflow_y": null,
       "padding": null,
       "right": null,
       "top": null,
       "visibility": null,
       "width": null
      }
     },
     "84da1b698fec41869ff7d7e34397561a": {
      "model_module": "@jupyter-widgets/controls",
      "model_module_version": "1.5.0",
      "model_name": "DescriptionStyleModel",
      "state": {
       "_model_module": "@jupyter-widgets/controls",
       "_model_module_version": "1.5.0",
       "_model_name": "DescriptionStyleModel",
       "_view_count": null,
       "_view_module": "@jupyter-widgets/base",
       "_view_module_version": "1.2.0",
       "_view_name": "StyleView",
       "description_width": ""
      }
     },
     "9bb1c0622abf4b92911fa8c1976c856d": {
      "model_module": "@jupyter-widgets/controls",
      "model_module_version": "1.5.0",
      "model_name": "HBoxModel",
      "state": {
       "_dom_classes": [],
       "_model_module": "@jupyter-widgets/controls",
       "_model_module_version": "1.5.0",
       "_model_name": "HBoxModel",
       "_view_count": null,
       "_view_module": "@jupyter-widgets/controls",
       "_view_module_version": "1.5.0",
       "_view_name": "HBoxView",
       "box_style": "",
       "children": [
        "IPY_MODEL_3f149f4d856d4a6388244da9402b7dd6",
        "IPY_MODEL_c44fc68d79354f4f866f254d81f9acb3"
       ],
       "layout": "IPY_MODEL_cf4c19c22ad74c2bbd68a762d099f643"
      }
     },
     "a630fc3e8bd34fa4ae76e3a973a2bf4d": {
      "model_module": "@jupyter-widgets/controls",
      "model_module_version": "1.5.0",
      "model_name": "FloatProgressModel",
      "state": {
       "_dom_classes": [],
       "_model_module": "@jupyter-widgets/controls",
       "_model_module_version": "1.5.0",
       "_model_name": "FloatProgressModel",
       "_view_count": null,
       "_view_module": "@jupyter-widgets/controls",
       "_view_module_version": "1.5.0",
       "_view_name": "ProgressView",
       "bar_style": "success",
       "description": "Downloading: 100%",
       "description_tooltip": null,
       "layout": "IPY_MODEL_dbf86c7dca564064b8329f9ec6024560",
       "max": 1344997306,
       "min": 0,
       "orientation": "horizontal",
       "style": "IPY_MODEL_eb72686653cc4902b552e298563dd010",
       "value": 1344997306
      }
     },
     "afcd1eb56d26421bac0903ecdf454773": {
      "model_module": "@jupyter-widgets/controls",
      "model_module_version": "1.5.0",
      "model_name": "HTMLModel",
      "state": {
       "_dom_classes": [],
       "_model_module": "@jupyter-widgets/controls",
       "_model_module_version": "1.5.0",
       "_model_name": "HTMLModel",
       "_view_count": null,
       "_view_module": "@jupyter-widgets/controls",
       "_view_module_version": "1.5.0",
       "_view_name": "HTMLView",
       "description": "",
       "description_tooltip": null,
       "layout": "IPY_MODEL_c44e8eac46124efe89aa649137676f8d",
       "placeholder": "​",
       "style": "IPY_MODEL_74a7f252d58f40d5abea27b6f717a0cc",
       "value": " 1.34G/1.34G [01:01&lt;00:00, 21.9MB/s]"
      }
     },
     "b1a2c3a5b4f748eeafc6618dd41db8fe": {
      "model_module": "@jupyter-widgets/controls",
      "model_module_version": "1.5.0",
      "model_name": "HTMLModel",
      "state": {
       "_dom_classes": [],
       "_model_module": "@jupyter-widgets/controls",
       "_model_module_version": "1.5.0",
       "_model_name": "HTMLModel",
       "_view_count": null,
       "_view_module": "@jupyter-widgets/controls",
       "_view_module_version": "1.5.0",
       "_view_name": "HTMLView",
       "description": "",
       "description_tooltip": null,
       "layout": "IPY_MODEL_44701799db104429ae6f569b71f018de",
       "placeholder": "​",
       "style": "IPY_MODEL_e28bf6ff8e8b4b34a013335b3a5d7797",
       "value": " 571/571 [00:00&lt;00:00, 1.95kB/s]"
      }
     },
     "c44e8eac46124efe89aa649137676f8d": {
      "model_module": "@jupyter-widgets/base",
      "model_module_version": "1.2.0",
      "model_name": "LayoutModel",
      "state": {
       "_model_module": "@jupyter-widgets/base",
       "_model_module_version": "1.2.0",
       "_model_name": "LayoutModel",
       "_view_count": null,
       "_view_module": "@jupyter-widgets/base",
       "_view_module_version": "1.2.0",
       "_view_name": "LayoutView",
       "align_content": null,
       "align_items": null,
       "align_self": null,
       "border": null,
       "bottom": null,
       "display": null,
       "flex": null,
       "flex_flow": null,
       "grid_area": null,
       "grid_auto_columns": null,
       "grid_auto_flow": null,
       "grid_auto_rows": null,
       "grid_column": null,
       "grid_gap": null,
       "grid_row": null,
       "grid_template_areas": null,
       "grid_template_columns": null,
       "grid_template_rows": null,
       "height": null,
       "justify_content": null,
       "justify_items": null,
       "left": null,
       "margin": null,
       "max_height": null,
       "max_width": null,
       "min_height": null,
       "min_width": null,
       "object_fit": null,
       "object_position": null,
       "order": null,
       "overflow": null,
       "overflow_x": null,
       "overflow_y": null,
       "padding": null,
       "right": null,
       "top": null,
       "visibility": null,
       "width": null
      }
     },
     "c44fc68d79354f4f866f254d81f9acb3": {
      "model_module": "@jupyter-widgets/controls",
      "model_module_version": "1.5.0",
      "model_name": "HTMLModel",
      "state": {
       "_dom_classes": [],
       "_model_module": "@jupyter-widgets/controls",
       "_model_module_version": "1.5.0",
       "_model_name": "HTMLModel",
       "_view_count": null,
       "_view_module": "@jupyter-widgets/controls",
       "_view_module_version": "1.5.0",
       "_view_name": "HTMLView",
       "description": "",
       "description_tooltip": null,
       "layout": "IPY_MODEL_83e3a6a3631143e7b28edc720f50d6a8",
       "placeholder": "​",
       "style": "IPY_MODEL_84da1b698fec41869ff7d7e34397561a",
       "value": " 232k/232k [00:00&lt;00:00, 839kB/s]"
      }
     },
     "cf1c4d89ed8f4ce1b0132d0cfe0aa848": {
      "model_module": "@jupyter-widgets/controls",
      "model_module_version": "1.5.0",
      "model_name": "HBoxModel",
      "state": {
       "_dom_classes": [],
       "_model_module": "@jupyter-widgets/controls",
       "_model_module_version": "1.5.0",
       "_model_name": "HBoxModel",
       "_view_count": null,
       "_view_module": "@jupyter-widgets/controls",
       "_view_module_version": "1.5.0",
       "_view_name": "HBoxView",
       "box_style": "",
       "children": [
        "IPY_MODEL_6110405a85cd48fcac6e751c90c479ee",
        "IPY_MODEL_b1a2c3a5b4f748eeafc6618dd41db8fe"
       ],
       "layout": "IPY_MODEL_633ae0ad8edb47ebad5fcbcdeca24ea3"
      }
     },
     "cf4c19c22ad74c2bbd68a762d099f643": {
      "model_module": "@jupyter-widgets/base",
      "model_module_version": "1.2.0",
      "model_name": "LayoutModel",
      "state": {
       "_model_module": "@jupyter-widgets/base",
       "_model_module_version": "1.2.0",
       "_model_name": "LayoutModel",
       "_view_count": null,
       "_view_module": "@jupyter-widgets/base",
       "_view_module_version": "1.2.0",
       "_view_name": "LayoutView",
       "align_content": null,
       "align_items": null,
       "align_self": null,
       "border": null,
       "bottom": null,
       "display": null,
       "flex": null,
       "flex_flow": null,
       "grid_area": null,
       "grid_auto_columns": null,
       "grid_auto_flow": null,
       "grid_auto_rows": null,
       "grid_column": null,
       "grid_gap": null,
       "grid_row": null,
       "grid_template_areas": null,
       "grid_template_columns": null,
       "grid_template_rows": null,
       "height": null,
       "justify_content": null,
       "justify_items": null,
       "left": null,
       "margin": null,
       "max_height": null,
       "max_width": null,
       "min_height": null,
       "min_width": null,
       "object_fit": null,
       "object_position": null,
       "order": null,
       "overflow": null,
       "overflow_x": null,
       "overflow_y": null,
       "padding": null,
       "right": null,
       "top": null,
       "visibility": null,
       "width": null
      }
     },
     "d0f3942925b24ba6b7bfa41403c6835d": {
      "model_module": "@jupyter-widgets/base",
      "model_module_version": "1.2.0",
      "model_name": "LayoutModel",
      "state": {
       "_model_module": "@jupyter-widgets/base",
       "_model_module_version": "1.2.0",
       "_model_name": "LayoutModel",
       "_view_count": null,
       "_view_module": "@jupyter-widgets/base",
       "_view_module_version": "1.2.0",
       "_view_name": "LayoutView",
       "align_content": null,
       "align_items": null,
       "align_self": null,
       "border": null,
       "bottom": null,
       "display": null,
       "flex": null,
       "flex_flow": null,
       "grid_area": null,
       "grid_auto_columns": null,
       "grid_auto_flow": null,
       "grid_auto_rows": null,
       "grid_column": null,
       "grid_gap": null,
       "grid_row": null,
       "grid_template_areas": null,
       "grid_template_columns": null,
       "grid_template_rows": null,
       "height": null,
       "justify_content": null,
       "justify_items": null,
       "left": null,
       "margin": null,
       "max_height": null,
       "max_width": null,
       "min_height": null,
       "min_width": null,
       "object_fit": null,
       "object_position": null,
       "order": null,
       "overflow": null,
       "overflow_x": null,
       "overflow_y": null,
       "padding": null,
       "right": null,
       "top": null,
       "visibility": null,
       "width": null
      }
     },
     "dbf86c7dca564064b8329f9ec6024560": {
      "model_module": "@jupyter-widgets/base",
      "model_module_version": "1.2.0",
      "model_name": "LayoutModel",
      "state": {
       "_model_module": "@jupyter-widgets/base",
       "_model_module_version": "1.2.0",
       "_model_name": "LayoutModel",
       "_view_count": null,
       "_view_module": "@jupyter-widgets/base",
       "_view_module_version": "1.2.0",
       "_view_name": "LayoutView",
       "align_content": null,
       "align_items": null,
       "align_self": null,
       "border": null,
       "bottom": null,
       "display": null,
       "flex": null,
       "flex_flow": null,
       "grid_area": null,
       "grid_auto_columns": null,
       "grid_auto_flow": null,
       "grid_auto_rows": null,
       "grid_column": null,
       "grid_gap": null,
       "grid_row": null,
       "grid_template_areas": null,
       "grid_template_columns": null,
       "grid_template_rows": null,
       "height": null,
       "justify_content": null,
       "justify_items": null,
       "left": null,
       "margin": null,
       "max_height": null,
       "max_width": null,
       "min_height": null,
       "min_width": null,
       "object_fit": null,
       "object_position": null,
       "order": null,
       "overflow": null,
       "overflow_x": null,
       "overflow_y": null,
       "padding": null,
       "right": null,
       "top": null,
       "visibility": null,
       "width": null
      }
     },
     "e28bf6ff8e8b4b34a013335b3a5d7797": {
      "model_module": "@jupyter-widgets/controls",
      "model_module_version": "1.5.0",
      "model_name": "DescriptionStyleModel",
      "state": {
       "_model_module": "@jupyter-widgets/controls",
       "_model_module_version": "1.5.0",
       "_model_name": "DescriptionStyleModel",
       "_view_count": null,
       "_view_module": "@jupyter-widgets/base",
       "_view_module_version": "1.2.0",
       "_view_name": "StyleView",
       "description_width": ""
      }
     },
     "eb72686653cc4902b552e298563dd010": {
      "model_module": "@jupyter-widgets/controls",
      "model_module_version": "1.5.0",
      "model_name": "ProgressStyleModel",
      "state": {
       "_model_module": "@jupyter-widgets/controls",
       "_model_module_version": "1.5.0",
       "_model_name": "ProgressStyleModel",
       "_view_count": null,
       "_view_module": "@jupyter-widgets/base",
       "_view_module_version": "1.2.0",
       "_view_name": "StyleView",
       "bar_color": null,
       "description_width": "initial"
      }
     },
     "ebb118bdc2f646198b48d726c5338e8e": {
      "model_module": "@jupyter-widgets/controls",
      "model_module_version": "1.5.0",
      "model_name": "HBoxModel",
      "state": {
       "_dom_classes": [],
       "_model_module": "@jupyter-widgets/controls",
       "_model_module_version": "1.5.0",
       "_model_name": "HBoxModel",
       "_view_count": null,
       "_view_module": "@jupyter-widgets/controls",
       "_view_module_version": "1.5.0",
       "_view_name": "HBoxView",
       "box_style": "",
       "children": [
        "IPY_MODEL_a630fc3e8bd34fa4ae76e3a973a2bf4d",
        "IPY_MODEL_afcd1eb56d26421bac0903ecdf454773"
       ],
       "layout": "IPY_MODEL_d0f3942925b24ba6b7bfa41403c6835d"
      }
     }
    },
    "version_major": 2,
    "version_minor": 0
   }
  }
 },
 "nbformat": 4,
 "nbformat_minor": 4
}
